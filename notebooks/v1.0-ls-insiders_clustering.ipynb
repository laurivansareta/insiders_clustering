{
 "cells": [
  {
   "cell_type": "markdown",
   "id": "50d84bb6",
   "metadata": {
    "ExecuteTime": {
     "end_time": "2021-03-27T20:58:22.276780Z",
     "start_time": "2021-03-27T20:58:22.274533Z"
    }
   },
   "source": [
    "# Identificação do Cliente de maior valor"
   ]
  },
  {
   "cell_type": "markdown",
   "id": "d1faaa20",
   "metadata": {
    "heading_collapsed": true
   },
   "source": [
    "# 0.0. Planejamento da Solução ( IOT )"
   ]
  },
  {
   "cell_type": "markdown",
   "id": "72f85c92",
   "metadata": {
    "hidden": true
   },
   "source": [
    "## Input - Entrada"
   ]
  },
  {
   "cell_type": "markdown",
   "id": "4ad38a50",
   "metadata": {
    "hidden": true
   },
   "source": [
    "### O problema de negócio"
   ]
  },
  {
   "cell_type": "markdown",
   "id": "970956ec",
   "metadata": {
    "hidden": true
   },
   "source": [
    "1. Selecionar os mais valiosos clientes para formar o programa de fidelidade **\"INSIDERS\"**\n",
    "2. Conjunto de dados com as vendas de produtos durante 1 ano ( Nov 2015 to Dez 2017 )"
   ]
  },
  {
   "cell_type": "markdown",
   "id": "b4f513ca",
   "metadata": {
    "hidden": true
   },
   "source": [
    "## Output - Saída"
   ]
  },
  {
   "cell_type": "markdown",
   "id": "e92ddcff",
   "metadata": {
    "hidden": true
   },
   "source": [
    "1. A indicação de pessoas para fazer parte do programa de fidelidade **\"INSIDERS\"**.\n",
    "2. Relatório com as respostas para as seguintes perguntas:\n",
    "    - Quem são as pessoas elegíveis para participar do programa de Insiders ?\n",
    "    - Quantos clientes farão parte do grupo?\n",
    "    - Quais as principais características desses clientes ?\n",
    "    - Qual a porcentagem de contribuição do faturamento, vinda do Insiders ?\n",
    "    - Qual a expectativa de faturamento desse grupo para os próximos meses ?\n",
    "    - Quais as condições para uma pessoa ser elegível ao Insiders ?\n",
    "    - Quais as condições para uma pessoa ser removida do Insiders ?\n",
    "    - Qual a garantia que o programa Insiders é melhor que o restante da base ?\n",
    "    - Quais ações o time de marketing pode realizar para aumentar o faturamento?"
   ]
  },
  {
   "cell_type": "markdown",
   "id": "12cd8757",
   "metadata": {
    "hidden": true
   },
   "source": [
    "## Tasks - Processo"
   ]
  },
  {
   "cell_type": "markdown",
   "id": "c60b6553",
   "metadata": {
    "hidden": true
   },
   "source": [
    "1. **Quem são as pessoas elegíveis para participar do programa de Insiders ?**\n",
    "    - O que é ser elegível ? O que é um cliente \"valioso\" para a empresa ?\n",
    "        - Faturamento:\n",
    "            - Alto Ticket Médio\n",
    "            - Alto LTV\n",
    "            - Baixa Recência ou Alta Frequência ( tempo entre as compras )\n",
    "            - Alto Basket Size ( quantidade média de produtos comprados )\n",
    "            - Baixa probabilidade de Churn\n",
    "            - Previsão alta de LTV\n",
    "            - Alta propensão de compra\n",
    "\n",
    "        - Custo:\n",
    "            - Baixo número de devoluções\n",
    "\n",
    "        - Experiência:  \n",
    "            - Média alta de avaliações\n",
    "            \n",
    "            \n",
    "2. **Quantos clientes farão parte do grupo?**\n",
    "    - Número de clientes\n",
    "    - % em relação ao total de clients\n",
    "    \n",
    "    \n",
    "3. **Quais as principais características desses clientes ?**\n",
    "    - Escrever os principais atributos dos clientes\n",
    "        - Idade\n",
    "        - País\n",
    "        - Salário\n",
    "        \n",
    "    - Escrever os principais comportamentos de compra dos clients ( métricas de negócio )\n",
    "        - Vide acima\n",
    "    \n",
    "    \n",
    "4. **Qual a porcentagem de contribuição do faturamento, vinda do Insiders ?**\n",
    "    - Calcular o faturamento total da empresa durante o ano.\n",
    "    - Calcular o faturamento (%) apenas do cluster Insiders.\n",
    "    \n",
    "    \n",
    "5. **Qual a expectativa de faturamento desse grupo para os próximos meses ?**\n",
    "    - Cálculo do LTV do grupo Insiders\n",
    "    - Séries Temporais ( ARMA, ARIMA, HoltWinter, etc )\n",
    "    \n",
    "\n",
    "6. **Quais as condições para uma pessoa ser elegível ao Insiders ?**\n",
    "    - Qual o período de avaliação ?\n",
    "    - O \"desempenho\" do cliente está próximo da média do cluster Insiders. \n",
    "    \n",
    "    \n",
    "7. **Quais as condições para uma pessoa ser removida do Insiders ?**\n",
    "    - O \"desempenho\" do cliente não está mais próximo da média do cluster Insiders. \n",
    "    \n",
    "    \n",
    "8. **Qual a garantia que o programa Insiders é melhor que o restante da base ?**\n",
    "    - Teste de Hipóteses\n",
    "    - Teste A/B\n",
    "    \n",
    "    \n",
    "9. **Quais ações o time de marketing pode realizar para aumentar o faturamento?**\n",
    "    - Descontos\n",
    "    - Preferências de escolha\n",
    "    - Produtos exclusivos"
   ]
  },
  {
   "cell_type": "markdown",
   "id": "e7f45a70",
   "metadata": {
    "heading_collapsed": true
   },
   "source": [
    "# 0.1. Imports"
   ]
  },
  {
   "cell_type": "code",
   "execution_count": 8,
   "id": "0b77867a",
   "metadata": {
    "ExecuteTime": {
     "end_time": "2022-05-27T12:23:22.892021Z",
     "start_time": "2022-05-27T12:23:22.869251Z"
    },
    "hidden": true
   },
   "outputs": [],
   "source": [
    "import numpy   as np\n",
    "import pandas  as pd\n",
    "import seaborn as sns\n",
    "import inflection\n",
    "\n",
    "from matplotlib import pyplot as plt\n",
    "from IPython.display import HTML\n",
    "\n",
    "from sklearn import cluster as c\n",
    "from sklearn import metrics as m## 0.1. Helper Functions\n",
    "\n",
    "from plotly import express as px"
   ]
  },
  {
   "cell_type": "markdown",
   "id": "b5ce4b13",
   "metadata": {
    "heading_collapsed": true,
    "hidden": true
   },
   "source": [
    "## 0.1. Helper Functions"
   ]
  },
  {
   "cell_type": "code",
   "execution_count": 2,
   "id": "c45e3e9d",
   "metadata": {
    "ExecuteTime": {
     "end_time": "2022-05-27T11:25:57.528042Z",
     "start_time": "2022-05-27T11:25:57.499042Z"
    },
    "hidden": true
   },
   "outputs": [
    {
     "name": "stdout",
     "output_type": "stream",
     "text": [
      "Populating the interactive namespace from numpy and matplotlib\n"
     ]
    },
    {
     "data": {
      "text/html": [
       "<style>.container { width:100% !important; }</style>"
      ],
      "text/plain": [
       "<IPython.core.display.HTML object>"
      ]
     },
     "metadata": {},
     "output_type": "display_data"
    }
   ],
   "source": [
    "def jupyter_settings():\n",
    "    %matplotlib inline\n",
    "    %pylab inline\n",
    "    \n",
    "    plt.style.use( 'ggplot')\n",
    "    plt.rcParams['figure.figsize'] = [24, 9]\n",
    "    plt.rcParams['font.size'] = 24\n",
    "    \n",
    "    display( HTML( '<style>.container { width:100% !important; }</style>') )\n",
    "    pd.options.display.max_columns = None\n",
    "    pd.options.display.max_rows = None\n",
    "    pd.set_option( 'display.expand_frame_repr', False )\n",
    "    \n",
    "    sns.set()\n",
    "    \n",
    "jupyter_settings()"
   ]
  },
  {
   "cell_type": "markdown",
   "id": "0e159bad",
   "metadata": {
    "heading_collapsed": true,
    "hidden": true
   },
   "source": [
    "## 0.2. Load dataset"
   ]
  },
  {
   "cell_type": "code",
   "execution_count": 3,
   "id": "35c71585",
   "metadata": {
    "ExecuteTime": {
     "end_time": "2022-05-27T11:25:58.194541Z",
     "start_time": "2022-05-27T11:25:57.531041Z"
    },
    "hidden": true
   },
   "outputs": [],
   "source": [
    "# Carregando dados\n",
    "df_raw = pd.read_csv( '../data/raw/Ecommerce.csv')"
   ]
  },
  {
   "cell_type": "code",
   "execution_count": 4,
   "id": "c4482f64",
   "metadata": {
    "ExecuteTime": {
     "end_time": "2022-05-27T11:25:58.225571Z",
     "start_time": "2022-05-27T11:25:58.196540Z"
    },
    "hidden": true
   },
   "outputs": [
    {
     "data": {
      "text/html": [
       "<div>\n",
       "<style scoped>\n",
       "    .dataframe tbody tr th:only-of-type {\n",
       "        vertical-align: middle;\n",
       "    }\n",
       "\n",
       "    .dataframe tbody tr th {\n",
       "        vertical-align: top;\n",
       "    }\n",
       "\n",
       "    .dataframe thead th {\n",
       "        text-align: right;\n",
       "    }\n",
       "</style>\n",
       "<table border=\"1\" class=\"dataframe\">\n",
       "  <thead>\n",
       "    <tr style=\"text-align: right;\">\n",
       "      <th></th>\n",
       "      <th>InvoiceNo</th>\n",
       "      <th>StockCode</th>\n",
       "      <th>Description</th>\n",
       "      <th>Quantity</th>\n",
       "      <th>InvoiceDate</th>\n",
       "      <th>UnitPrice</th>\n",
       "      <th>CustomerID</th>\n",
       "      <th>Country</th>\n",
       "    </tr>\n",
       "  </thead>\n",
       "  <tbody>\n",
       "    <tr>\n",
       "      <th>0</th>\n",
       "      <td>536365</td>\n",
       "      <td>85123A</td>\n",
       "      <td>WHITE HANGING HEART T-LIGHT HOLDER</td>\n",
       "      <td>6</td>\n",
       "      <td>29-Nov-16</td>\n",
       "      <td>2.55</td>\n",
       "      <td>17850.0</td>\n",
       "      <td>United Kingdom</td>\n",
       "    </tr>\n",
       "    <tr>\n",
       "      <th>1</th>\n",
       "      <td>536365</td>\n",
       "      <td>71053</td>\n",
       "      <td>WHITE METAL LANTERN</td>\n",
       "      <td>6</td>\n",
       "      <td>29-Nov-16</td>\n",
       "      <td>3.39</td>\n",
       "      <td>17850.0</td>\n",
       "      <td>United Kingdom</td>\n",
       "    </tr>\n",
       "    <tr>\n",
       "      <th>2</th>\n",
       "      <td>536365</td>\n",
       "      <td>84406B</td>\n",
       "      <td>CREAM CUPID HEARTS COAT HANGER</td>\n",
       "      <td>8</td>\n",
       "      <td>29-Nov-16</td>\n",
       "      <td>2.75</td>\n",
       "      <td>17850.0</td>\n",
       "      <td>United Kingdom</td>\n",
       "    </tr>\n",
       "    <tr>\n",
       "      <th>3</th>\n",
       "      <td>536365</td>\n",
       "      <td>84029G</td>\n",
       "      <td>KNITTED UNION FLAG HOT WATER BOTTLE</td>\n",
       "      <td>6</td>\n",
       "      <td>29-Nov-16</td>\n",
       "      <td>3.39</td>\n",
       "      <td>17850.0</td>\n",
       "      <td>United Kingdom</td>\n",
       "    </tr>\n",
       "    <tr>\n",
       "      <th>4</th>\n",
       "      <td>536365</td>\n",
       "      <td>84029E</td>\n",
       "      <td>RED WOOLLY HOTTIE WHITE HEART.</td>\n",
       "      <td>6</td>\n",
       "      <td>29-Nov-16</td>\n",
       "      <td>3.39</td>\n",
       "      <td>17850.0</td>\n",
       "      <td>United Kingdom</td>\n",
       "    </tr>\n",
       "  </tbody>\n",
       "</table>\n",
       "</div>"
      ],
      "text/plain": [
       "  InvoiceNo StockCode                          Description  Quantity InvoiceDate  UnitPrice  CustomerID         Country\n",
       "0    536365    85123A   WHITE HANGING HEART T-LIGHT HOLDER         6   29-Nov-16       2.55     17850.0  United Kingdom\n",
       "1    536365     71053                  WHITE METAL LANTERN         6   29-Nov-16       3.39     17850.0  United Kingdom\n",
       "2    536365    84406B       CREAM CUPID HEARTS COAT HANGER         8   29-Nov-16       2.75     17850.0  United Kingdom\n",
       "3    536365    84029G  KNITTED UNION FLAG HOT WATER BOTTLE         6   29-Nov-16       3.39     17850.0  United Kingdom\n",
       "4    536365    84029E       RED WOOLLY HOTTIE WHITE HEART.         6   29-Nov-16       3.39     17850.0  United Kingdom"
      ]
     },
     "execution_count": 4,
     "metadata": {},
     "output_type": "execute_result"
    }
   ],
   "source": [
    "df_raw.head()"
   ]
  },
  {
   "cell_type": "markdown",
   "id": "9d69c709",
   "metadata": {
    "heading_collapsed": true
   },
   "source": [
    "# 1.0. Descrição dos Dados"
   ]
  },
  {
   "cell_type": "code",
   "execution_count": 5,
   "id": "42fbc0e9",
   "metadata": {
    "ExecuteTime": {
     "end_time": "2022-05-27T11:25:58.256569Z",
     "start_time": "2022-05-27T11:25:58.228043Z"
    },
    "hidden": true
   },
   "outputs": [],
   "source": [
    "df1 = df_raw.copy()"
   ]
  },
  {
   "cell_type": "markdown",
   "id": "91f7987e",
   "metadata": {
    "hidden": true
   },
   "source": [
    "## 1.1. Renomear Colunas"
   ]
  },
  {
   "cell_type": "code",
   "execution_count": 9,
   "id": "47aa9509",
   "metadata": {
    "ExecuteTime": {
     "end_time": "2022-05-27T12:23:26.065961Z",
     "start_time": "2022-05-27T12:23:26.057986Z"
    },
    "hidden": true
   },
   "outputs": [
    {
     "data": {
      "text/plain": [
       "Index(['invoice_no', 'stock_code', 'description', 'quantity', 'invoice_date',\n",
       "       'unit_price', 'customer_id', 'country'],\n",
       "      dtype='object')"
      ]
     },
     "execution_count": 9,
     "metadata": {},
     "output_type": "execute_result"
    }
   ],
   "source": [
    "snakecase = lambda x: inflection.underscore( x )\n",
    "\n",
    "cols_new = list( map( snakecase, df_raw.columns))\n",
    "\n",
    "df1.columns = cols_new\n",
    "\n",
    "df1.columns"
   ]
  },
  {
   "cell_type": "markdown",
   "id": "3241e2e0",
   "metadata": {
    "hidden": true
   },
   "source": [
    "## 1.2. Dimensões dos dados"
   ]
  },
  {
   "cell_type": "code",
   "execution_count": 11,
   "id": "bf32265b",
   "metadata": {
    "ExecuteTime": {
     "end_time": "2022-05-27T12:25:00.360119Z",
     "start_time": "2022-05-27T12:25:00.346617Z"
    },
    "hidden": true
   },
   "outputs": [
    {
     "name": "stdout",
     "output_type": "stream",
     "text": [
      "Número de linhas: 541909\n",
      "Número de Atributos: 8\n"
     ]
    }
   ],
   "source": [
    "print(f'Número de linhas: {df1.shape[0]}')\n",
    "print(f'Número de Atributos: {df1.shape[1]}')"
   ]
  },
  {
   "cell_type": "markdown",
   "id": "72cd627c",
   "metadata": {
    "hidden": true
   },
   "source": [
    "## 1.3. Tipo dos Dados"
   ]
  },
  {
   "cell_type": "code",
   "execution_count": 12,
   "id": "c0e74497",
   "metadata": {
    "ExecuteTime": {
     "end_time": "2022-05-27T12:25:25.942804Z",
     "start_time": "2022-05-27T12:25:25.935304Z"
    },
    "hidden": true
   },
   "outputs": [
    {
     "data": {
      "text/plain": [
       "invoice_no       object\n",
       "stock_code       object\n",
       "description      object\n",
       "quantity          int64\n",
       "invoice_date     object\n",
       "unit_price      float64\n",
       "customer_id     float64\n",
       "country          object\n",
       "dtype: object"
      ]
     },
     "execution_count": 12,
     "metadata": {},
     "output_type": "execute_result"
    }
   ],
   "source": [
    "df1.dtypes"
   ]
  },
  {
   "cell_type": "markdown",
   "id": "392a5efb",
   "metadata": {
    "hidden": true
   },
   "source": [
    "## 1.4. Check NA"
   ]
  },
  {
   "cell_type": "code",
   "execution_count": 19,
   "id": "4ec6dd64",
   "metadata": {
    "ExecuteTime": {
     "end_time": "2022-05-27T12:26:45.354363Z",
     "start_time": "2022-05-27T12:26:45.258307Z"
    },
    "hidden": true
   },
   "outputs": [
    {
     "data": {
      "text/plain": [
       "invoice_no           0\n",
       "stock_code           0\n",
       "description       1454\n",
       "quantity             0\n",
       "invoice_date         0\n",
       "unit_price           0\n",
       "customer_id     135080\n",
       "country              0\n",
       "dtype: int64"
      ]
     },
     "execution_count": 19,
     "metadata": {},
     "output_type": "execute_result"
    }
   ],
   "source": [
    "df1.isna().sum()"
   ]
  },
  {
   "cell_type": "markdown",
   "id": "70dc04b6",
   "metadata": {
    "hidden": true
   },
   "source": [
    "## 1.5. Replace NA"
   ]
  },
  {
   "cell_type": "code",
   "execution_count": 25,
   "id": "156148e2",
   "metadata": {
    "ExecuteTime": {
     "end_time": "2022-05-27T12:31:00.413870Z",
     "start_time": "2022-05-27T12:31:00.351340Z"
    },
    "hidden": true
   },
   "outputs": [
    {
     "name": "stdout",
     "output_type": "stream",
     "text": [
      "Dados Removidos: 0.25\n"
     ]
    }
   ],
   "source": [
    "df1 = df1.dropna( subset=['description', 'customer_id'])\n",
    "print('Dados Removidos: {:.2f}'.format( 1 - (df1.shape[0] / df_raw.shape[0] )))"
   ]
  },
  {
   "cell_type": "markdown",
   "id": "22e77865",
   "metadata": {
    "hidden": true
   },
   "source": [
    "## 1.6. Mudança de DataType"
   ]
  },
  {
   "cell_type": "code",
   "execution_count": 31,
   "id": "648fc013",
   "metadata": {
    "ExecuteTime": {
     "end_time": "2022-05-27T13:03:12.545616Z",
     "start_time": "2022-05-27T13:03:12.529591Z"
    },
    "hidden": true
   },
   "outputs": [
    {
     "data": {
      "text/html": [
       "<div>\n",
       "<style scoped>\n",
       "    .dataframe tbody tr th:only-of-type {\n",
       "        vertical-align: middle;\n",
       "    }\n",
       "\n",
       "    .dataframe tbody tr th {\n",
       "        vertical-align: top;\n",
       "    }\n",
       "\n",
       "    .dataframe thead th {\n",
       "        text-align: right;\n",
       "    }\n",
       "</style>\n",
       "<table border=\"1\" class=\"dataframe\">\n",
       "  <thead>\n",
       "    <tr style=\"text-align: right;\">\n",
       "      <th></th>\n",
       "      <th>invoice_no</th>\n",
       "      <th>stock_code</th>\n",
       "      <th>description</th>\n",
       "      <th>quantity</th>\n",
       "      <th>invoice_date</th>\n",
       "      <th>unit_price</th>\n",
       "      <th>customer_id</th>\n",
       "      <th>country</th>\n",
       "    </tr>\n",
       "  </thead>\n",
       "  <tbody>\n",
       "    <tr>\n",
       "      <th>0</th>\n",
       "      <td>536365</td>\n",
       "      <td>85123A</td>\n",
       "      <td>WHITE HANGING HEART T-LIGHT HOLDER</td>\n",
       "      <td>6</td>\n",
       "      <td>29-Nov-16</td>\n",
       "      <td>2.55</td>\n",
       "      <td>17850</td>\n",
       "      <td>United Kingdom</td>\n",
       "    </tr>\n",
       "    <tr>\n",
       "      <th>1</th>\n",
       "      <td>536365</td>\n",
       "      <td>71053</td>\n",
       "      <td>WHITE METAL LANTERN</td>\n",
       "      <td>6</td>\n",
       "      <td>29-Nov-16</td>\n",
       "      <td>3.39</td>\n",
       "      <td>17850</td>\n",
       "      <td>United Kingdom</td>\n",
       "    </tr>\n",
       "    <tr>\n",
       "      <th>2</th>\n",
       "      <td>536365</td>\n",
       "      <td>84406B</td>\n",
       "      <td>CREAM CUPID HEARTS COAT HANGER</td>\n",
       "      <td>8</td>\n",
       "      <td>29-Nov-16</td>\n",
       "      <td>2.75</td>\n",
       "      <td>17850</td>\n",
       "      <td>United Kingdom</td>\n",
       "    </tr>\n",
       "    <tr>\n",
       "      <th>3</th>\n",
       "      <td>536365</td>\n",
       "      <td>84029G</td>\n",
       "      <td>KNITTED UNION FLAG HOT WATER BOTTLE</td>\n",
       "      <td>6</td>\n",
       "      <td>29-Nov-16</td>\n",
       "      <td>3.39</td>\n",
       "      <td>17850</td>\n",
       "      <td>United Kingdom</td>\n",
       "    </tr>\n",
       "    <tr>\n",
       "      <th>4</th>\n",
       "      <td>536365</td>\n",
       "      <td>84029E</td>\n",
       "      <td>RED WOOLLY HOTTIE WHITE HEART.</td>\n",
       "      <td>6</td>\n",
       "      <td>29-Nov-16</td>\n",
       "      <td>3.39</td>\n",
       "      <td>17850</td>\n",
       "      <td>United Kingdom</td>\n",
       "    </tr>\n",
       "  </tbody>\n",
       "</table>\n",
       "</div>"
      ],
      "text/plain": [
       "  invoice_no stock_code                          description  quantity invoice_date  unit_price  customer_id         country\n",
       "0     536365     85123A   WHITE HANGING HEART T-LIGHT HOLDER         6    29-Nov-16        2.55        17850  United Kingdom\n",
       "1     536365      71053                  WHITE METAL LANTERN         6    29-Nov-16        3.39        17850  United Kingdom\n",
       "2     536365     84406B       CREAM CUPID HEARTS COAT HANGER         8    29-Nov-16        2.75        17850  United Kingdom\n",
       "3     536365     84029G  KNITTED UNION FLAG HOT WATER BOTTLE         6    29-Nov-16        3.39        17850  United Kingdom\n",
       "4     536365     84029E       RED WOOLLY HOTTIE WHITE HEART.         6    29-Nov-16        3.39        17850  United Kingdom"
      ]
     },
     "execution_count": 31,
     "metadata": {},
     "output_type": "execute_result"
    }
   ],
   "source": [
    "df1.head()"
   ]
  },
  {
   "cell_type": "code",
   "execution_count": 29,
   "id": "11bcbe06",
   "metadata": {
    "ExecuteTime": {
     "end_time": "2022-05-27T12:33:22.039781Z",
     "start_time": "2022-05-27T12:33:21.997890Z"
    },
    "hidden": true
   },
   "outputs": [
    {
     "data": {
      "text/plain": [
       "0   2016-11-29\n",
       "1   2016-11-29\n",
       "2   2016-11-29\n",
       "3   2016-11-29\n",
       "4   2016-11-29\n",
       "Name: invoice_date, dtype: datetime64[ns]"
      ]
     },
     "execution_count": 29,
     "metadata": {},
     "output_type": "execute_result"
    }
   ],
   "source": [
    "df1['invoice_date'] = pd.to_datetime( df1['invoice_date'], format='%d-%b-%y' ).head()"
   ]
  },
  {
   "cell_type": "code",
   "execution_count": 30,
   "id": "8989a726",
   "metadata": {
    "ExecuteTime": {
     "end_time": "2022-05-27T13:03:10.337412Z",
     "start_time": "2022-05-27T13:03:10.314914Z"
    },
    "hidden": true
   },
   "outputs": [],
   "source": [
    "df1['customer_id'] = df1['customer_id'].astype( int )"
   ]
  },
  {
   "cell_type": "code",
   "execution_count": 32,
   "id": "1cad650f",
   "metadata": {
    "ExecuteTime": {
     "end_time": "2022-05-27T13:04:19.634267Z",
     "start_time": "2022-05-27T13:04:19.626264Z"
    },
    "hidden": true
   },
   "outputs": [
    {
     "data": {
      "text/plain": [
       "invoice_no       object\n",
       "stock_code       object\n",
       "description      object\n",
       "quantity          int64\n",
       "invoice_date     object\n",
       "unit_price      float64\n",
       "customer_id       int32\n",
       "country          object\n",
       "dtype: object"
      ]
     },
     "execution_count": 32,
     "metadata": {},
     "output_type": "execute_result"
    }
   ],
   "source": [
    "df1.dtypes"
   ]
  },
  {
   "cell_type": "markdown",
   "id": "6d2765e9",
   "metadata": {
    "hidden": true
   },
   "source": [
    "## 1.7. Estatística Descritiva"
   ]
  },
  {
   "cell_type": "markdown",
   "id": "8cc93bc0",
   "metadata": {
    "hidden": true
   },
   "source": [
    "Vou deixar para fazer no proximo ciclo, neste vou seguir desta maneira."
   ]
  },
  {
   "cell_type": "markdown",
   "id": "543f8554",
   "metadata": {},
   "source": [
    "# 2.0. Feature Engineering"
   ]
  },
  {
   "cell_type": "code",
   "execution_count": 33,
   "id": "faf30214",
   "metadata": {
    "ExecuteTime": {
     "end_time": "2022-05-27T13:04:44.476233Z",
     "start_time": "2022-05-27T13:04:44.455232Z"
    }
   },
   "outputs": [],
   "source": [
    "df2 = df1.copy()"
   ]
  },
  {
   "cell_type": "markdown",
   "id": "9c6a4bae",
   "metadata": {},
   "source": [
    "# 3.0. Filtragem de Variáveis"
   ]
  },
  {
   "cell_type": "markdown",
   "id": "ef93d0d5",
   "metadata": {
    "heading_collapsed": true
   },
   "source": [
    "# 4.0. Análise Exploratória dos Dados - EDA"
   ]
  },
  {
   "cell_type": "markdown",
   "id": "510bec64",
   "metadata": {
    "hidden": true
   },
   "source": [
    "## 4.1. Análise Univariada"
   ]
  },
  {
   "cell_type": "markdown",
   "id": "67a4ff9c",
   "metadata": {
    "hidden": true
   },
   "source": [
    "## 4.2. Análise Univariada"
   ]
  },
  {
   "cell_type": "markdown",
   "id": "e943f208",
   "metadata": {
    "hidden": true
   },
   "source": [
    "## 4.2. Análise Multivariada"
   ]
  },
  {
   "cell_type": "markdown",
   "id": "a2a22cf7",
   "metadata": {},
   "source": [
    "# 5.0. Preparação dos Dados"
   ]
  },
  {
   "cell_type": "markdown",
   "id": "66a5ab22",
   "metadata": {},
   "source": [
    "# 6.0. Seleção de Features"
   ]
  },
  {
   "cell_type": "markdown",
   "id": "ea1eed28",
   "metadata": {},
   "source": [
    "# 7.0. Hyperparameter Fine-Tunning"
   ]
  },
  {
   "cell_type": "markdown",
   "id": "70741a46",
   "metadata": {},
   "source": [
    "# 8.0. Modelagem de Machine Learning"
   ]
  },
  {
   "cell_type": "markdown",
   "id": "f8b8a4ab",
   "metadata": {},
   "source": [
    "# 9.0. Análise dos clusters"
   ]
  },
  {
   "cell_type": "markdown",
   "id": "fbd12c68",
   "metadata": {},
   "source": [
    "# 10.0. Deploy Modelo em Produção"
   ]
  }
 ],
 "metadata": {
  "kernelspec": {
   "display_name": "Python 3 (ipykernel)",
   "language": "python",
   "name": "python3"
  },
  "language_info": {
   "codemirror_mode": {
    "name": "ipython",
    "version": 3
   },
   "file_extension": ".py",
   "mimetype": "text/x-python",
   "name": "python",
   "nbconvert_exporter": "python",
   "pygments_lexer": "ipython3",
   "version": "3.8.12"
  }
 },
 "nbformat": 4,
 "nbformat_minor": 5
}
