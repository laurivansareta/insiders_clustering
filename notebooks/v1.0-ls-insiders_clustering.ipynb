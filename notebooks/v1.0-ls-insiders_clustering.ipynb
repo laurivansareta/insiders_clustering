{
 "cells": [
  {
   "cell_type": "markdown",
   "id": "50d84bb6",
   "metadata": {
    "ExecuteTime": {
     "end_time": "2021-03-27T20:58:22.276780Z",
     "start_time": "2021-03-27T20:58:22.274533Z"
    }
   },
   "source": [
    "# Identificação do Cliente de maior valor"
   ]
  },
  {
   "cell_type": "markdown",
   "id": "d1faaa20",
   "metadata": {},
   "source": [
    "# 0.0. Planejamento da Solução ( IOT )"
   ]
  },
  {
   "cell_type": "markdown",
   "id": "72f85c92",
   "metadata": {},
   "source": [
    "## Input - Entrada"
   ]
  },
  {
   "cell_type": "markdown",
   "id": "4ad38a50",
   "metadata": {},
   "source": [
    "### O problema de negócio"
   ]
  },
  {
   "cell_type": "markdown",
   "id": "970956ec",
   "metadata": {},
   "source": [
    "1. Selecionar os mais valiosos clientes para formar o programa de fidelidade **\"INSIDERS\"**\n",
    "2. Conjunto de dados com as vendas de produtos durante 1 ano ( Nov 2015 to Dez 2017 )"
   ]
  },
  {
   "cell_type": "markdown",
   "id": "b4f513ca",
   "metadata": {},
   "source": [
    "## Output - Saída"
   ]
  },
  {
   "cell_type": "markdown",
   "id": "e92ddcff",
   "metadata": {},
   "source": [
    "1. A indicação de pessoas para fazer parte do programa de fidelidade **\"INSIDERS\"**.\n",
    "2. Relatório com as respostas para as seguintes perguntas:\n",
    "    - Quem são as pessoas elegíveis para participar do programa de Insiders ?\n",
    "    - Quantos clientes farão parte do grupo?\n",
    "    - Quais as principais características desses clientes ?\n",
    "    - Qual a porcentagem de contribuição do faturamento, vinda do Insiders ?\n",
    "    - Qual a expectativa de faturamento desse grupo para os próximos meses ?\n",
    "    - Quais as condições para uma pessoa ser elegível ao Insiders ?\n",
    "    - Quais as condições para uma pessoa ser removida do Insiders ?\n",
    "    - Qual a garantia que o programa Insiders é melhor que o restante da base ?\n",
    "    - Quais ações o time de marketing pode realizar para aumentar o faturamento?"
   ]
  },
  {
   "cell_type": "markdown",
   "id": "12cd8757",
   "metadata": {},
   "source": [
    "## Tasks - Processo"
   ]
  },
  {
   "cell_type": "markdown",
   "id": "c60b6553",
   "metadata": {},
   "source": [
    "1. **Quem são as pessoas elegíveis para participar do programa de Insiders ?**\n",
    "    - O que é ser elegível ? O que é um cliente \"valioso\" para a empresa ?\n",
    "        - Faturamento:\n",
    "            - Alto Ticket Médio\n",
    "            - Alto LTV\n",
    "            - Baixa Recência ou Alta Frequência ( tempo entre as compras )\n",
    "            - Alto Basket Size ( quantidade média de produtos comprados )\n",
    "            - Baixa probabilidade de Churn\n",
    "            - Previsão alta de LTV\n",
    "            - Alta propensão de compra\n",
    "\n",
    "        - Custo:\n",
    "            - Baixo número de devoluções\n",
    "\n",
    "        - Experiência:  \n",
    "            - Média alta de avaliações\n",
    "            \n",
    "            \n",
    "2. **Quantos clientes farão parte do grupo?**\n",
    "    - Número de clientes\n",
    "    - % em relação ao total de clients\n",
    "    \n",
    "    \n",
    "3. **Quais as principais características desses clientes ?**\n",
    "    - Escrever os principais atributos dos clientes\n",
    "        - Idade\n",
    "        - País\n",
    "        - Salário\n",
    "        \n",
    "    - Escrever os principais comportamentos de compra dos clients ( métricas de negócio )\n",
    "        - Vide acima\n",
    "    \n",
    "    \n",
    "4. **Qual a porcentagem de contribuição do faturamento, vinda do Insiders ?**\n",
    "    - Calcular o faturamento total da empresa durante o ano.\n",
    "    - Calcular o faturamento (%) apenas do cluster Insiders.\n",
    "    \n",
    "    \n",
    "5. **Qual a expectativa de faturamento desse grupo para os próximos meses ?**\n",
    "    - Cálculo do LTV do grupo Insiders\n",
    "    - Séries Temporais ( ARMA, ARIMA, HoltWinter, etc )\n",
    "    \n",
    "\n",
    "6. **Quais as condições para uma pessoa ser elegível ao Insiders ?**\n",
    "    - Qual o período de avaliação ?\n",
    "    - O \"desempenho\" do cliente está próximo da média do cluster Insiders. \n",
    "    \n",
    "    \n",
    "7. **Quais as condições para uma pessoa ser removida do Insiders ?**\n",
    "    - O \"desempenho\" do cliente não está mais próximo da média do cluster Insiders. \n",
    "    \n",
    "    \n",
    "8. **Qual a garantia que o programa Insiders é melhor que o restante da base ?**\n",
    "    - Teste de Hipóteses\n",
    "    - Teste A/B\n",
    "    \n",
    "    \n",
    "9. **Quais ações o time de marketing pode realizar para aumentar o faturamento?**\n",
    "    - Descontos\n",
    "    - Preferências de escolha\n",
    "    - Produtos exclusivos"
   ]
  },
  {
   "cell_type": "markdown",
   "id": "76afff00",
   "metadata": {},
   "source": [
    "## <font color='red'> Proximos Passos </font>"
   ]
  },
  {
   "cell_type": "markdown",
   "id": "8f000210",
   "metadata": {},
   "source": [
    "### Ciclo 01 - Finalizado"
   ]
  },
  {
   "cell_type": "markdown",
   "id": "56b4fb3b",
   "metadata": {},
   "source": [
    "1. Feature Engineering\n",
    "    - Recência\n",
    "    - Frequência\n",
    "    - Monetização\n",
    " \n",
    " \n",
    "2. Métricas de validação de Clustering\n",
    "    - WSS ( Within-Cluster Sum of Square )\n",
    "    - SS ( Silhouette Score )\n",
    "\n",
    "\n",
    "2. Cluster Analysis\n",
    "    - Plot 3D\n",
    "    - Cluster Profile"
   ]
  },
  {
   "cell_type": "markdown",
   "id": "788b10e4",
   "metadata": {},
   "source": [
    "### Ciclo 02 - Finalizado"
   ]
  },
  {
   "cell_type": "markdown",
   "id": "f60e3330",
   "metadata": {},
   "source": [
    "1. Feature Engineering\n",
    "    - Average Ticket\n",
    "\n",
    "\n",
    "2. Análise de Silhouette\n",
    "    - Silhouette Analysis  \n",
    "\n",
    "\n",
    "3. Cluster Visualization\n",
    "    - UMAP\n",
    "\n",
    "\n",
    "4. Cluster Análise de Perfil\n",
    "    - Descrição dos centróides dos cluster"
   ]
  },
  {
   "cell_type": "markdown",
   "id": "337315c2",
   "metadata": {},
   "source": [
    "### Ciclo 03 - Finalizado"
   ]
  },
  {
   "cell_type": "markdown",
   "id": "11494b10",
   "metadata": {},
   "source": [
    "1. Análise Descritiva\n",
    "    - Atributos numéricos\n",
    "    - Atributos categóricos\n",
    "\n",
    "\n",
    "2. Feature Engineering\n",
    "    - Average Recency\n",
    "    - Number of Returns\n",
    "\n",
    "\n",
    "3. Data preparation\n",
    "    - Standard Scaler"
   ]
  },
  {
   "cell_type": "markdown",
   "id": "1f0bcaf6",
   "metadata": {},
   "source": [
    "### Ciclo 04 Finalizado\n",
    "1. Substituir os dados flatantos\n",
    "    - Planejamento de recuperação de 25% dos clientes faltantes.\n",
    "    - Execução do plano sobre os dados faltantes.\n",
    "    \n",
    "    \n",
    "2. Criação de features diretas.\n",
    "\n",
    "3. Iniciado com EDA."
   ]
  },
  {
   "cell_type": "markdown",
   "id": "190253f6",
   "metadata": {},
   "source": [
    "### Ciclo 05 Finalizado\n",
    "\n",
    "1. Análise exploratória - EDA\n",
    "    - Análise univariada.\n",
    "    - Análise Bivariada."
   ]
  },
  {
   "cell_type": "markdown",
   "id": "3d4d3f01",
   "metadata": {
    "hide_input": false
   },
   "source": [
    "### <font color='red'> Para fazer </font>"
   ]
  },
  {
   "cell_type": "markdown",
   "id": "16574a31",
   "metadata": {},
   "source": [
    " "
   ]
  },
  {
   "cell_type": "markdown",
   "id": "e7f45a70",
   "metadata": {},
   "source": [
    "# 0.1. Imports"
   ]
  },
  {
   "cell_type": "code",
   "execution_count": 1,
   "id": "0b77867a",
   "metadata": {
    "ExecuteTime": {
     "end_time": "2022-07-07T09:46:54.331321Z",
     "start_time": "2022-07-07T09:46:43.553811Z"
    }
   },
   "outputs": [],
   "source": [
    "import numpy   as np\n",
    "import pandas  as pd\n",
    "import seaborn as sns\n",
    "import inflection\n",
    "import umap.umap_ as umap\n",
    "\n",
    "from matplotlib import pyplot as plt\n",
    "from IPython.display import HTML\n",
    "from sklearn import cluster as c\n",
    "from sklearn import metrics as m\n",
    "from sklearn import preprocessing as pp\n",
    "from plotly import express as px\n",
    "from yellowbrick.cluster import KElbowVisualizer, SilhouetteVisualizer"
   ]
  },
  {
   "cell_type": "markdown",
   "id": "b5ce4b13",
   "metadata": {},
   "source": [
    "## 0.1. Helper Functions"
   ]
  },
  {
   "cell_type": "code",
   "execution_count": 2,
   "id": "c45e3e9d",
   "metadata": {
    "ExecuteTime": {
     "end_time": "2022-07-07T09:46:54.377803Z",
     "start_time": "2022-07-07T09:46:54.341311Z"
    }
   },
   "outputs": [
    {
     "name": "stdout",
     "output_type": "stream",
     "text": [
      "Populating the interactive namespace from numpy and matplotlib\n"
     ]
    },
    {
     "data": {
      "text/html": [
       "<style>.container { width:100% !important; }</style>"
      ],
      "text/plain": [
       "<IPython.core.display.HTML object>"
      ]
     },
     "metadata": {},
     "output_type": "display_data"
    }
   ],
   "source": [
    "def jupyter_settings():\n",
    "    %matplotlib inline\n",
    "    %pylab inline\n",
    "    \n",
    "    plt.style.use( 'ggplot')\n",
    "    plt.rcParams['figure.figsize'] = [24, 9]\n",
    "    plt.rcParams['font.size'] = 24\n",
    "    \n",
    "    display( HTML( '<style>.container { width:100% !important; }</style>') )\n",
    "    pd.options.display.max_columns = None\n",
    "    pd.options.display.max_rows = None\n",
    "    pd.set_option( 'display.expand_frame_repr', False )\n",
    "    \n",
    "    sns.set()\n",
    "    \n",
    "jupyter_settings()"
   ]
  },
  {
   "cell_type": "markdown",
   "id": "0e159bad",
   "metadata": {},
   "source": [
    "## 0.2. Load dataset"
   ]
  },
  {
   "cell_type": "code",
   "execution_count": 3,
   "id": "35c71585",
   "metadata": {
    "ExecuteTime": {
     "end_time": "2022-07-07T09:46:54.934746Z",
     "start_time": "2022-07-07T09:46:54.379304Z"
    }
   },
   "outputs": [],
   "source": [
    "# Carregando dados\n",
    "df_raw = pd.read_csv( '../data/raw/Ecommerce.csv')"
   ]
  },
  {
   "cell_type": "code",
   "execution_count": 4,
   "id": "c4482f64",
   "metadata": {
    "ExecuteTime": {
     "end_time": "2022-07-07T09:46:54.965717Z",
     "start_time": "2022-07-07T09:46:54.938219Z"
    }
   },
   "outputs": [
    {
     "data": {
      "text/html": [
       "<div>\n",
       "<style scoped>\n",
       "    .dataframe tbody tr th:only-of-type {\n",
       "        vertical-align: middle;\n",
       "    }\n",
       "\n",
       "    .dataframe tbody tr th {\n",
       "        vertical-align: top;\n",
       "    }\n",
       "\n",
       "    .dataframe thead th {\n",
       "        text-align: right;\n",
       "    }\n",
       "</style>\n",
       "<table border=\"1\" class=\"dataframe\">\n",
       "  <thead>\n",
       "    <tr style=\"text-align: right;\">\n",
       "      <th></th>\n",
       "      <th>InvoiceNo</th>\n",
       "      <th>StockCode</th>\n",
       "      <th>Description</th>\n",
       "      <th>Quantity</th>\n",
       "      <th>InvoiceDate</th>\n",
       "      <th>UnitPrice</th>\n",
       "      <th>CustomerID</th>\n",
       "      <th>Country</th>\n",
       "    </tr>\n",
       "  </thead>\n",
       "  <tbody>\n",
       "    <tr>\n",
       "      <th>0</th>\n",
       "      <td>536365</td>\n",
       "      <td>85123A</td>\n",
       "      <td>WHITE HANGING HEART T-LIGHT HOLDER</td>\n",
       "      <td>6</td>\n",
       "      <td>29-Nov-16</td>\n",
       "      <td>2.55</td>\n",
       "      <td>17850.0</td>\n",
       "      <td>United Kingdom</td>\n",
       "    </tr>\n",
       "    <tr>\n",
       "      <th>1</th>\n",
       "      <td>536365</td>\n",
       "      <td>71053</td>\n",
       "      <td>WHITE METAL LANTERN</td>\n",
       "      <td>6</td>\n",
       "      <td>29-Nov-16</td>\n",
       "      <td>3.39</td>\n",
       "      <td>17850.0</td>\n",
       "      <td>United Kingdom</td>\n",
       "    </tr>\n",
       "    <tr>\n",
       "      <th>2</th>\n",
       "      <td>536365</td>\n",
       "      <td>84406B</td>\n",
       "      <td>CREAM CUPID HEARTS COAT HANGER</td>\n",
       "      <td>8</td>\n",
       "      <td>29-Nov-16</td>\n",
       "      <td>2.75</td>\n",
       "      <td>17850.0</td>\n",
       "      <td>United Kingdom</td>\n",
       "    </tr>\n",
       "    <tr>\n",
       "      <th>3</th>\n",
       "      <td>536365</td>\n",
       "      <td>84029G</td>\n",
       "      <td>KNITTED UNION FLAG HOT WATER BOTTLE</td>\n",
       "      <td>6</td>\n",
       "      <td>29-Nov-16</td>\n",
       "      <td>3.39</td>\n",
       "      <td>17850.0</td>\n",
       "      <td>United Kingdom</td>\n",
       "    </tr>\n",
       "    <tr>\n",
       "      <th>4</th>\n",
       "      <td>536365</td>\n",
       "      <td>84029E</td>\n",
       "      <td>RED WOOLLY HOTTIE WHITE HEART.</td>\n",
       "      <td>6</td>\n",
       "      <td>29-Nov-16</td>\n",
       "      <td>3.39</td>\n",
       "      <td>17850.0</td>\n",
       "      <td>United Kingdom</td>\n",
       "    </tr>\n",
       "  </tbody>\n",
       "</table>\n",
       "</div>"
      ],
      "text/plain": [
       "  InvoiceNo StockCode                          Description  Quantity InvoiceDate  UnitPrice  CustomerID         Country\n",
       "0    536365    85123A   WHITE HANGING HEART T-LIGHT HOLDER         6   29-Nov-16       2.55     17850.0  United Kingdom\n",
       "1    536365     71053                  WHITE METAL LANTERN         6   29-Nov-16       3.39     17850.0  United Kingdom\n",
       "2    536365    84406B       CREAM CUPID HEARTS COAT HANGER         8   29-Nov-16       2.75     17850.0  United Kingdom\n",
       "3    536365    84029G  KNITTED UNION FLAG HOT WATER BOTTLE         6   29-Nov-16       3.39     17850.0  United Kingdom\n",
       "4    536365    84029E       RED WOOLLY HOTTIE WHITE HEART.         6   29-Nov-16       3.39     17850.0  United Kingdom"
      ]
     },
     "execution_count": 4,
     "metadata": {},
     "output_type": "execute_result"
    }
   ],
   "source": [
    "df_raw.head()"
   ]
  },
  {
   "cell_type": "markdown",
   "id": "9d69c709",
   "metadata": {},
   "source": [
    "# 1.0. Descrição dos Dados"
   ]
  },
  {
   "cell_type": "code",
   "execution_count": 5,
   "id": "42fbc0e9",
   "metadata": {
    "ExecuteTime": {
     "end_time": "2022-07-07T09:46:54.996740Z",
     "start_time": "2022-07-07T09:46:54.967216Z"
    }
   },
   "outputs": [],
   "source": [
    "df1 = df_raw.copy()"
   ]
  },
  {
   "cell_type": "markdown",
   "id": "91f7987e",
   "metadata": {},
   "source": [
    "## 1.1. Renomear Colunas"
   ]
  },
  {
   "cell_type": "code",
   "execution_count": 6,
   "id": "527eddc9",
   "metadata": {
    "ExecuteTime": {
     "end_time": "2022-07-07T09:46:55.012216Z",
     "start_time": "2022-07-07T09:46:54.997742Z"
    }
   },
   "outputs": [
    {
     "data": {
      "text/plain": [
       "Index(['invoice_no', 'stock_code', 'description', 'quantity', 'invoice_date',\n",
       "       'unit_price', 'customer_id', 'country'],\n",
       "      dtype='object')"
      ]
     },
     "execution_count": 6,
     "metadata": {},
     "output_type": "execute_result"
    }
   ],
   "source": [
    "snakecase = lambda x: inflection.underscore( x )\n",
    "\n",
    "cols_new = list( map( snakecase, df_raw.columns))\n",
    "\n",
    "df1.columns = cols_new\n",
    "\n",
    "df1.columns"
   ]
  },
  {
   "cell_type": "markdown",
   "id": "3241e2e0",
   "metadata": {},
   "source": [
    "## 1.2. Dimensões dos dados"
   ]
  },
  {
   "cell_type": "code",
   "execution_count": 7,
   "id": "61942ed3",
   "metadata": {
    "ExecuteTime": {
     "end_time": "2022-07-07T09:46:55.027717Z",
     "start_time": "2022-07-07T09:46:55.013716Z"
    }
   },
   "outputs": [
    {
     "name": "stdout",
     "output_type": "stream",
     "text": [
      "Número de linhas: 541909\n",
      "Número de Atributos: 8\n"
     ]
    }
   ],
   "source": [
    "print(f'Número de linhas: {df1.shape[0]}')\n",
    "print(f'Número de Atributos: {df1.shape[1]}')"
   ]
  },
  {
   "cell_type": "markdown",
   "id": "72cd627c",
   "metadata": {},
   "source": [
    "## 1.3. Tipo dos Dados"
   ]
  },
  {
   "cell_type": "code",
   "execution_count": 8,
   "id": "5cd42c76",
   "metadata": {
    "ExecuteTime": {
     "end_time": "2022-07-07T09:46:55.043217Z",
     "start_time": "2022-07-07T09:46:55.029217Z"
    }
   },
   "outputs": [
    {
     "data": {
      "text/plain": [
       "invoice_no       object\n",
       "stock_code       object\n",
       "description      object\n",
       "quantity          int64\n",
       "invoice_date     object\n",
       "unit_price      float64\n",
       "customer_id     float64\n",
       "country          object\n",
       "dtype: object"
      ]
     },
     "execution_count": 8,
     "metadata": {},
     "output_type": "execute_result"
    }
   ],
   "source": [
    "df1.dtypes"
   ]
  },
  {
   "cell_type": "markdown",
   "id": "392a5efb",
   "metadata": {},
   "source": [
    "## 1.4. Check NA"
   ]
  },
  {
   "cell_type": "code",
   "execution_count": 9,
   "id": "57296642",
   "metadata": {
    "ExecuteTime": {
     "end_time": "2022-07-07T09:46:55.136186Z",
     "start_time": "2022-07-07T09:46:55.044717Z"
    }
   },
   "outputs": [
    {
     "data": {
      "text/plain": [
       "invoice_no           0\n",
       "stock_code           0\n",
       "description       1454\n",
       "quantity             0\n",
       "invoice_date         0\n",
       "unit_price           0\n",
       "customer_id     135080\n",
       "country              0\n",
       "dtype: int64"
      ]
     },
     "execution_count": 9,
     "metadata": {},
     "output_type": "execute_result"
    }
   ],
   "source": [
    "df1.isna().sum()"
   ]
  },
  {
   "cell_type": "markdown",
   "id": "70dc04b6",
   "metadata": {},
   "source": [
    "## 1.5. Replace NA"
   ]
  },
  {
   "cell_type": "code",
   "execution_count": 10,
   "id": "b0d5b6b8",
   "metadata": {
    "ExecuteTime": {
     "end_time": "2022-07-07T09:46:55.197920Z",
     "start_time": "2022-07-07T09:46:55.138680Z"
    }
   },
   "outputs": [],
   "source": [
    "df_missing = df1.loc[df1['customer_id'].isna(), :]\n",
    "df_not_missing = df1.loc[~df1['customer_id'].isna(), :]"
   ]
  },
  {
   "cell_type": "code",
   "execution_count": 11,
   "id": "8ad4eacb",
   "metadata": {
    "ExecuteTime": {
     "end_time": "2022-07-07T09:46:55.507963Z",
     "start_time": "2022-07-07T09:46:55.199412Z"
    }
   },
   "outputs": [
    {
     "data": {
      "text/html": [
       "<div>\n",
       "<style scoped>\n",
       "    .dataframe tbody tr th:only-of-type {\n",
       "        vertical-align: middle;\n",
       "    }\n",
       "\n",
       "    .dataframe tbody tr th {\n",
       "        vertical-align: top;\n",
       "    }\n",
       "\n",
       "    .dataframe thead th {\n",
       "        text-align: right;\n",
       "    }\n",
       "</style>\n",
       "<table border=\"1\" class=\"dataframe\">\n",
       "  <thead>\n",
       "    <tr style=\"text-align: right;\">\n",
       "      <th></th>\n",
       "      <th>invoice_no</th>\n",
       "      <th>stock_code</th>\n",
       "      <th>description</th>\n",
       "      <th>quantity</th>\n",
       "      <th>invoice_date</th>\n",
       "      <th>unit_price</th>\n",
       "      <th>country</th>\n",
       "      <th>customer_id</th>\n",
       "    </tr>\n",
       "  </thead>\n",
       "  <tbody>\n",
       "    <tr>\n",
       "      <th>0</th>\n",
       "      <td>536365</td>\n",
       "      <td>85123A</td>\n",
       "      <td>WHITE HANGING HEART T-LIGHT HOLDER</td>\n",
       "      <td>6</td>\n",
       "      <td>29-Nov-16</td>\n",
       "      <td>2.55</td>\n",
       "      <td>United Kingdom</td>\n",
       "      <td>17850.0</td>\n",
       "    </tr>\n",
       "    <tr>\n",
       "      <th>1</th>\n",
       "      <td>536365</td>\n",
       "      <td>71053</td>\n",
       "      <td>WHITE METAL LANTERN</td>\n",
       "      <td>6</td>\n",
       "      <td>29-Nov-16</td>\n",
       "      <td>3.39</td>\n",
       "      <td>United Kingdom</td>\n",
       "      <td>17850.0</td>\n",
       "    </tr>\n",
       "    <tr>\n",
       "      <th>2</th>\n",
       "      <td>536365</td>\n",
       "      <td>84406B</td>\n",
       "      <td>CREAM CUPID HEARTS COAT HANGER</td>\n",
       "      <td>8</td>\n",
       "      <td>29-Nov-16</td>\n",
       "      <td>2.75</td>\n",
       "      <td>United Kingdom</td>\n",
       "      <td>17850.0</td>\n",
       "    </tr>\n",
       "    <tr>\n",
       "      <th>3</th>\n",
       "      <td>536365</td>\n",
       "      <td>84029G</td>\n",
       "      <td>KNITTED UNION FLAG HOT WATER BOTTLE</td>\n",
       "      <td>6</td>\n",
       "      <td>29-Nov-16</td>\n",
       "      <td>3.39</td>\n",
       "      <td>United Kingdom</td>\n",
       "      <td>17850.0</td>\n",
       "    </tr>\n",
       "    <tr>\n",
       "      <th>4</th>\n",
       "      <td>536365</td>\n",
       "      <td>84029E</td>\n",
       "      <td>RED WOOLLY HOTTIE WHITE HEART.</td>\n",
       "      <td>6</td>\n",
       "      <td>29-Nov-16</td>\n",
       "      <td>3.39</td>\n",
       "      <td>United Kingdom</td>\n",
       "      <td>17850.0</td>\n",
       "    </tr>\n",
       "  </tbody>\n",
       "</table>\n",
       "</div>"
      ],
      "text/plain": [
       "  invoice_no stock_code                          description  quantity invoice_date  unit_price         country  customer_id\n",
       "0     536365     85123A   WHITE HANGING HEART T-LIGHT HOLDER         6    29-Nov-16        2.55  United Kingdom      17850.0\n",
       "1     536365      71053                  WHITE METAL LANTERN         6    29-Nov-16        3.39  United Kingdom      17850.0\n",
       "2     536365     84406B       CREAM CUPID HEARTS COAT HANGER         8    29-Nov-16        2.75  United Kingdom      17850.0\n",
       "3     536365     84029G  KNITTED UNION FLAG HOT WATER BOTTLE         6    29-Nov-16        3.39  United Kingdom      17850.0\n",
       "4     536365     84029E       RED WOOLLY HOTTIE WHITE HEART.         6    29-Nov-16        3.39  United Kingdom      17850.0"
      ]
     },
     "execution_count": 11,
     "metadata": {},
     "output_type": "execute_result"
    }
   ],
   "source": [
    "# Atribui um código sequencial quando customer_id está nulo.\n",
    "df_backup = pd.DataFrame( df_missing['invoice_no'].drop_duplicates() )\n",
    "df_backup['customer_id'] = np.arange( 1900, 1900 + len( df_backup ), 1 )\n",
    "\n",
    "# Merge com o dataframe original\n",
    "df1 = pd.merge( df1, df_backup, on='invoice_no', how='left')\n",
    "\n",
    "# Coalesce\n",
    "df1['customer_id'] = df1['customer_id_x'].combine_first( df1['customer_id_y'] )\n",
    "\n",
    "# Drop colunas temporárias\n",
    "df1 = df1.drop( columns=['customer_id_x', 'customer_id_y'], axis=1)\n",
    "\n",
    "df1.head()"
   ]
  },
  {
   "cell_type": "code",
   "execution_count": 12,
   "id": "a9e2ca1a",
   "metadata": {
    "ExecuteTime": {
     "end_time": "2022-07-07T09:46:55.600936Z",
     "start_time": "2022-07-07T09:46:55.509960Z"
    }
   },
   "outputs": [
    {
     "data": {
      "text/plain": [
       "invoice_no         0\n",
       "stock_code         0\n",
       "description     1454\n",
       "quantity           0\n",
       "invoice_date       0\n",
       "unit_price         0\n",
       "country            0\n",
       "customer_id        0\n",
       "dtype: int64"
      ]
     },
     "execution_count": 12,
     "metadata": {},
     "output_type": "execute_result"
    }
   ],
   "source": [
    "df1.isna().sum()"
   ]
  },
  {
   "cell_type": "code",
   "execution_count": null,
   "id": "dd4fc169",
   "metadata": {
    "ExecuteTime": {
     "end_time": "2022-07-05T09:59:45.848182Z",
     "start_time": "2022-07-05T09:59:45.834183Z"
    }
   },
   "outputs": [],
   "source": []
  },
  {
   "cell_type": "code",
   "execution_count": null,
   "id": "5d42dece",
   "metadata": {},
   "outputs": [],
   "source": []
  },
  {
   "cell_type": "code",
   "execution_count": null,
   "id": "3b5a12f1",
   "metadata": {},
   "outputs": [],
   "source": []
  },
  {
   "cell_type": "markdown",
   "id": "22e77865",
   "metadata": {},
   "source": [
    "## 1.6. Mudança de DataType"
   ]
  },
  {
   "cell_type": "code",
   "execution_count": 13,
   "id": "b243ad80",
   "metadata": {
    "ExecuteTime": {
     "end_time": "2022-07-07T09:46:55.616435Z",
     "start_time": "2022-07-07T09:46:55.601935Z"
    }
   },
   "outputs": [
    {
     "data": {
      "text/html": [
       "<div>\n",
       "<style scoped>\n",
       "    .dataframe tbody tr th:only-of-type {\n",
       "        vertical-align: middle;\n",
       "    }\n",
       "\n",
       "    .dataframe tbody tr th {\n",
       "        vertical-align: top;\n",
       "    }\n",
       "\n",
       "    .dataframe thead th {\n",
       "        text-align: right;\n",
       "    }\n",
       "</style>\n",
       "<table border=\"1\" class=\"dataframe\">\n",
       "  <thead>\n",
       "    <tr style=\"text-align: right;\">\n",
       "      <th></th>\n",
       "      <th>invoice_no</th>\n",
       "      <th>stock_code</th>\n",
       "      <th>description</th>\n",
       "      <th>quantity</th>\n",
       "      <th>invoice_date</th>\n",
       "      <th>unit_price</th>\n",
       "      <th>country</th>\n",
       "      <th>customer_id</th>\n",
       "    </tr>\n",
       "  </thead>\n",
       "  <tbody>\n",
       "    <tr>\n",
       "      <th>0</th>\n",
       "      <td>536365</td>\n",
       "      <td>85123A</td>\n",
       "      <td>WHITE HANGING HEART T-LIGHT HOLDER</td>\n",
       "      <td>6</td>\n",
       "      <td>29-Nov-16</td>\n",
       "      <td>2.55</td>\n",
       "      <td>United Kingdom</td>\n",
       "      <td>17850.0</td>\n",
       "    </tr>\n",
       "    <tr>\n",
       "      <th>1</th>\n",
       "      <td>536365</td>\n",
       "      <td>71053</td>\n",
       "      <td>WHITE METAL LANTERN</td>\n",
       "      <td>6</td>\n",
       "      <td>29-Nov-16</td>\n",
       "      <td>3.39</td>\n",
       "      <td>United Kingdom</td>\n",
       "      <td>17850.0</td>\n",
       "    </tr>\n",
       "    <tr>\n",
       "      <th>2</th>\n",
       "      <td>536365</td>\n",
       "      <td>84406B</td>\n",
       "      <td>CREAM CUPID HEARTS COAT HANGER</td>\n",
       "      <td>8</td>\n",
       "      <td>29-Nov-16</td>\n",
       "      <td>2.75</td>\n",
       "      <td>United Kingdom</td>\n",
       "      <td>17850.0</td>\n",
       "    </tr>\n",
       "    <tr>\n",
       "      <th>3</th>\n",
       "      <td>536365</td>\n",
       "      <td>84029G</td>\n",
       "      <td>KNITTED UNION FLAG HOT WATER BOTTLE</td>\n",
       "      <td>6</td>\n",
       "      <td>29-Nov-16</td>\n",
       "      <td>3.39</td>\n",
       "      <td>United Kingdom</td>\n",
       "      <td>17850.0</td>\n",
       "    </tr>\n",
       "    <tr>\n",
       "      <th>4</th>\n",
       "      <td>536365</td>\n",
       "      <td>84029E</td>\n",
       "      <td>RED WOOLLY HOTTIE WHITE HEART.</td>\n",
       "      <td>6</td>\n",
       "      <td>29-Nov-16</td>\n",
       "      <td>3.39</td>\n",
       "      <td>United Kingdom</td>\n",
       "      <td>17850.0</td>\n",
       "    </tr>\n",
       "  </tbody>\n",
       "</table>\n",
       "</div>"
      ],
      "text/plain": [
       "  invoice_no stock_code                          description  quantity invoice_date  unit_price         country  customer_id\n",
       "0     536365     85123A   WHITE HANGING HEART T-LIGHT HOLDER         6    29-Nov-16        2.55  United Kingdom      17850.0\n",
       "1     536365      71053                  WHITE METAL LANTERN         6    29-Nov-16        3.39  United Kingdom      17850.0\n",
       "2     536365     84406B       CREAM CUPID HEARTS COAT HANGER         8    29-Nov-16        2.75  United Kingdom      17850.0\n",
       "3     536365     84029G  KNITTED UNION FLAG HOT WATER BOTTLE         6    29-Nov-16        3.39  United Kingdom      17850.0\n",
       "4     536365     84029E       RED WOOLLY HOTTIE WHITE HEART.         6    29-Nov-16        3.39  United Kingdom      17850.0"
      ]
     },
     "execution_count": 13,
     "metadata": {},
     "output_type": "execute_result"
    }
   ],
   "source": [
    "df1.head()"
   ]
  },
  {
   "cell_type": "code",
   "execution_count": 14,
   "id": "9329ee79",
   "metadata": {
    "ExecuteTime": {
     "end_time": "2022-07-07T09:46:55.678433Z",
     "start_time": "2022-07-07T09:46:55.617936Z"
    }
   },
   "outputs": [],
   "source": [
    "df1['invoice_date'] = pd.to_datetime( df1['invoice_date'], format='%d-%b-%y' )"
   ]
  },
  {
   "cell_type": "code",
   "execution_count": 15,
   "id": "8eeadbd3",
   "metadata": {
    "ExecuteTime": {
     "end_time": "2022-07-07T09:46:55.693934Z",
     "start_time": "2022-07-07T09:46:55.679435Z"
    }
   },
   "outputs": [],
   "source": [
    "df1['customer_id'] = df1['customer_id'].astype( int )"
   ]
  },
  {
   "cell_type": "code",
   "execution_count": 16,
   "id": "3196c2ca",
   "metadata": {
    "ExecuteTime": {
     "end_time": "2022-07-07T09:46:55.709436Z",
     "start_time": "2022-07-07T09:46:55.694934Z"
    }
   },
   "outputs": [
    {
     "data": {
      "text/plain": [
       "invoice_no              object\n",
       "stock_code              object\n",
       "description             object\n",
       "quantity                 int64\n",
       "invoice_date    datetime64[ns]\n",
       "unit_price             float64\n",
       "country                 object\n",
       "customer_id              int32\n",
       "dtype: object"
      ]
     },
     "execution_count": 16,
     "metadata": {},
     "output_type": "execute_result"
    }
   ],
   "source": [
    "df1.dtypes"
   ]
  },
  {
   "cell_type": "markdown",
   "id": "6d2765e9",
   "metadata": {},
   "source": [
    "## 1.7. Estatística Descritiva"
   ]
  },
  {
   "cell_type": "code",
   "execution_count": 17,
   "id": "673ac943",
   "metadata": {
    "ExecuteTime": {
     "end_time": "2022-07-07T09:46:55.740433Z",
     "start_time": "2022-07-07T09:46:55.710436Z"
    }
   },
   "outputs": [],
   "source": [
    "num_attributes = df1.select_dtypes( include=['int64', 'float64'])\n",
    "cat_attributes = df1.select_dtypes( exclude=['int64', 'float64', 'datetime64[ns]'])"
   ]
  },
  {
   "cell_type": "markdown",
   "id": "da3df112",
   "metadata": {},
   "source": [
    "### 1.7.1. Atributos Numéricos"
   ]
  },
  {
   "cell_type": "code",
   "execution_count": 18,
   "id": "a4432c92",
   "metadata": {
    "ExecuteTime": {
     "end_time": "2022-07-07T09:46:55.817935Z",
     "start_time": "2022-07-07T09:46:55.741935Z"
    }
   },
   "outputs": [
    {
     "data": {
      "text/html": [
       "<div>\n",
       "<style scoped>\n",
       "    .dataframe tbody tr th:only-of-type {\n",
       "        vertical-align: middle;\n",
       "    }\n",
       "\n",
       "    .dataframe tbody tr th {\n",
       "        vertical-align: top;\n",
       "    }\n",
       "\n",
       "    .dataframe thead th {\n",
       "        text-align: right;\n",
       "    }\n",
       "</style>\n",
       "<table border=\"1\" class=\"dataframe\">\n",
       "  <thead>\n",
       "    <tr style=\"text-align: right;\">\n",
       "      <th></th>\n",
       "      <th>count</th>\n",
       "      <th>mean</th>\n",
       "      <th>std</th>\n",
       "      <th>min</th>\n",
       "      <th>25%</th>\n",
       "      <th>50%</th>\n",
       "      <th>75%</th>\n",
       "      <th>max</th>\n",
       "    </tr>\n",
       "  </thead>\n",
       "  <tbody>\n",
       "    <tr>\n",
       "      <th>quantity</th>\n",
       "      <td>541909.0</td>\n",
       "      <td>9.552250</td>\n",
       "      <td>218.081158</td>\n",
       "      <td>-80995.00</td>\n",
       "      <td>1.00</td>\n",
       "      <td>3.00</td>\n",
       "      <td>10.00</td>\n",
       "      <td>80995.0</td>\n",
       "    </tr>\n",
       "    <tr>\n",
       "      <th>unit_price</th>\n",
       "      <td>541909.0</td>\n",
       "      <td>4.611114</td>\n",
       "      <td>96.759853</td>\n",
       "      <td>-11062.06</td>\n",
       "      <td>1.25</td>\n",
       "      <td>2.08</td>\n",
       "      <td>4.13</td>\n",
       "      <td>38970.0</td>\n",
       "    </tr>\n",
       "  </tbody>\n",
       "</table>\n",
       "</div>"
      ],
      "text/plain": [
       "               count      mean         std       min   25%   50%    75%      max\n",
       "quantity    541909.0  9.552250  218.081158 -80995.00  1.00  3.00  10.00  80995.0\n",
       "unit_price  541909.0  4.611114   96.759853 -11062.06  1.25  2.08   4.13  38970.0"
      ]
     },
     "execution_count": 18,
     "metadata": {},
     "output_type": "execute_result"
    }
   ],
   "source": [
    "num_attributes.describe().T"
   ]
  },
  {
   "cell_type": "markdown",
   "id": "25d76a91",
   "metadata": {},
   "source": [
    "### <font color='red'> 1.7.1.1. Atributos Numéricos - Investigar </font>"
   ]
  },
  {
   "cell_type": "markdown",
   "id": "a69f474b",
   "metadata": {
    "ExecuteTime": {
     "end_time": "2022-07-04T09:14:57.115947Z",
     "start_time": "2022-07-04T09:14:57.102947Z"
    }
   },
   "source": [
    "1. Quantidade negativa ( pode ser devolução? )\n",
    "2. preço unitário igual a zero. ( pode ser promoção ou bonificação? )"
   ]
  },
  {
   "cell_type": "markdown",
   "id": "2b49465f",
   "metadata": {},
   "source": [
    "### 1.7.2. Atributos Categóriocos"
   ]
  },
  {
   "cell_type": "code",
   "execution_count": 19,
   "id": "68f86961",
   "metadata": {
    "ExecuteTime": {
     "end_time": "2022-07-07T09:46:55.833434Z",
     "start_time": "2022-07-07T09:46:55.819435Z"
    },
    "scrolled": true
   },
   "outputs": [
    {
     "data": {
      "text/html": [
       "<div>\n",
       "<style scoped>\n",
       "    .dataframe tbody tr th:only-of-type {\n",
       "        vertical-align: middle;\n",
       "    }\n",
       "\n",
       "    .dataframe tbody tr th {\n",
       "        vertical-align: top;\n",
       "    }\n",
       "\n",
       "    .dataframe thead th {\n",
       "        text-align: right;\n",
       "    }\n",
       "</style>\n",
       "<table border=\"1\" class=\"dataframe\">\n",
       "  <thead>\n",
       "    <tr style=\"text-align: right;\">\n",
       "      <th></th>\n",
       "      <th>invoice_no</th>\n",
       "      <th>stock_code</th>\n",
       "      <th>description</th>\n",
       "      <th>country</th>\n",
       "      <th>customer_id</th>\n",
       "    </tr>\n",
       "  </thead>\n",
       "  <tbody>\n",
       "    <tr>\n",
       "      <th>0</th>\n",
       "      <td>536365</td>\n",
       "      <td>85123A</td>\n",
       "      <td>WHITE HANGING HEART T-LIGHT HOLDER</td>\n",
       "      <td>United Kingdom</td>\n",
       "      <td>17850</td>\n",
       "    </tr>\n",
       "    <tr>\n",
       "      <th>1</th>\n",
       "      <td>536365</td>\n",
       "      <td>71053</td>\n",
       "      <td>WHITE METAL LANTERN</td>\n",
       "      <td>United Kingdom</td>\n",
       "      <td>17850</td>\n",
       "    </tr>\n",
       "    <tr>\n",
       "      <th>2</th>\n",
       "      <td>536365</td>\n",
       "      <td>84406B</td>\n",
       "      <td>CREAM CUPID HEARTS COAT HANGER</td>\n",
       "      <td>United Kingdom</td>\n",
       "      <td>17850</td>\n",
       "    </tr>\n",
       "    <tr>\n",
       "      <th>3</th>\n",
       "      <td>536365</td>\n",
       "      <td>84029G</td>\n",
       "      <td>KNITTED UNION FLAG HOT WATER BOTTLE</td>\n",
       "      <td>United Kingdom</td>\n",
       "      <td>17850</td>\n",
       "    </tr>\n",
       "    <tr>\n",
       "      <th>4</th>\n",
       "      <td>536365</td>\n",
       "      <td>84029E</td>\n",
       "      <td>RED WOOLLY HOTTIE WHITE HEART.</td>\n",
       "      <td>United Kingdom</td>\n",
       "      <td>17850</td>\n",
       "    </tr>\n",
       "  </tbody>\n",
       "</table>\n",
       "</div>"
      ],
      "text/plain": [
       "  invoice_no stock_code                          description         country  customer_id\n",
       "0     536365     85123A   WHITE HANGING HEART T-LIGHT HOLDER  United Kingdom        17850\n",
       "1     536365      71053                  WHITE METAL LANTERN  United Kingdom        17850\n",
       "2     536365     84406B       CREAM CUPID HEARTS COAT HANGER  United Kingdom        17850\n",
       "3     536365     84029G  KNITTED UNION FLAG HOT WATER BOTTLE  United Kingdom        17850\n",
       "4     536365     84029E       RED WOOLLY HOTTIE WHITE HEART.  United Kingdom        17850"
      ]
     },
     "execution_count": 19,
     "metadata": {},
     "output_type": "execute_result"
    }
   ],
   "source": [
    "cat_attributes.head()"
   ]
  },
  {
   "cell_type": "markdown",
   "id": "8968d9d6",
   "metadata": {},
   "source": [
    "#### Invoice No"
   ]
  },
  {
   "cell_type": "code",
   "execution_count": 20,
   "id": "fbf96b7a",
   "metadata": {
    "ExecuteTime": {
     "end_time": "2022-07-07T09:46:56.344936Z",
     "start_time": "2022-07-07T09:46:55.834936Z"
    }
   },
   "outputs": [
    {
     "name": "stdout",
     "output_type": "stream",
     "text": [
      "Qt Negativa : 9288 \n",
      "Com Caracter: 9291 \n"
     ]
    }
   ],
   "source": [
    "# identificar se tem caracter no invoice_no\n",
    "df_char_invoice = df1.loc[df1['invoice_no'].apply( lambda x: bool( re.search( '[^0-9]+', x ) ) ), :]\n",
    "\n",
    "char_invoice_total = df_char_invoice.shape[0]\n",
    "negative_char_invoice = df_char_invoice[df_char_invoice['quantity'] < 0].shape[0]\n",
    "\n",
    "print( f'Qt Negativa : {negative_char_invoice} \\nCom Caracter: {char_invoice_total} ' )"
   ]
  },
  {
   "cell_type": "markdown",
   "id": "1eaa758c",
   "metadata": {},
   "source": [
    "#### Stock code"
   ]
  },
  {
   "cell_type": "code",
   "execution_count": 21,
   "id": "85ed7025",
   "metadata": {
    "ExecuteTime": {
     "end_time": "2022-07-07T09:46:56.825463Z",
     "start_time": "2022-07-07T09:46:56.346459Z"
    }
   },
   "outputs": [
    {
     "data": {
      "text/plain": [
       "array(['POST', 'D', 'DOT', 'M', 'S', 'AMAZONFEE', 'm', 'DCGSSBOY',\n",
       "       'DCGSSGIRL', 'PADS', 'B', 'CRUK'], dtype=object)"
      ]
     },
     "execution_count": 21,
     "metadata": {},
     "output_type": "execute_result"
    }
   ],
   "source": [
    "# Identifica stock_code com apenas caracteres.\n",
    "stock_only_char = cat_attributes.loc[cat_attributes['stock_code'].apply( lambda x: bool( re.search( '^[a-zA-z]+$', x ) ) ), 'stock_code'].unique()\n",
    "stock_only_char\n",
    "\n",
    "# Ação:\n",
    "# Remover stock_code in ['POST', 'D', 'M', 'PADS', 'DOT', 'CRUK']"
   ]
  },
  {
   "cell_type": "markdown",
   "id": "65f1e877",
   "metadata": {},
   "source": [
    "#### Description"
   ]
  },
  {
   "cell_type": "code",
   "execution_count": 22,
   "id": "29061ed0",
   "metadata": {
    "ExecuteTime": {
     "end_time": "2022-07-07T09:46:56.840960Z",
     "start_time": "2022-07-07T09:46:56.826945Z"
    }
   },
   "outputs": [
    {
     "data": {
      "text/html": [
       "<div>\n",
       "<style scoped>\n",
       "    .dataframe tbody tr th:only-of-type {\n",
       "        vertical-align: middle;\n",
       "    }\n",
       "\n",
       "    .dataframe tbody tr th {\n",
       "        vertical-align: top;\n",
       "    }\n",
       "\n",
       "    .dataframe thead th {\n",
       "        text-align: right;\n",
       "    }\n",
       "</style>\n",
       "<table border=\"1\" class=\"dataframe\">\n",
       "  <thead>\n",
       "    <tr style=\"text-align: right;\">\n",
       "      <th></th>\n",
       "      <th>invoice_no</th>\n",
       "      <th>stock_code</th>\n",
       "      <th>description</th>\n",
       "      <th>quantity</th>\n",
       "      <th>invoice_date</th>\n",
       "      <th>unit_price</th>\n",
       "      <th>country</th>\n",
       "      <th>customer_id</th>\n",
       "    </tr>\n",
       "  </thead>\n",
       "  <tbody>\n",
       "    <tr>\n",
       "      <th>0</th>\n",
       "      <td>536365</td>\n",
       "      <td>85123A</td>\n",
       "      <td>WHITE HANGING HEART T-LIGHT HOLDER</td>\n",
       "      <td>6</td>\n",
       "      <td>2016-11-29</td>\n",
       "      <td>2.55</td>\n",
       "      <td>United Kingdom</td>\n",
       "      <td>17850</td>\n",
       "    </tr>\n",
       "    <tr>\n",
       "      <th>1</th>\n",
       "      <td>536365</td>\n",
       "      <td>71053</td>\n",
       "      <td>WHITE METAL LANTERN</td>\n",
       "      <td>6</td>\n",
       "      <td>2016-11-29</td>\n",
       "      <td>3.39</td>\n",
       "      <td>United Kingdom</td>\n",
       "      <td>17850</td>\n",
       "    </tr>\n",
       "    <tr>\n",
       "      <th>2</th>\n",
       "      <td>536365</td>\n",
       "      <td>84406B</td>\n",
       "      <td>CREAM CUPID HEARTS COAT HANGER</td>\n",
       "      <td>8</td>\n",
       "      <td>2016-11-29</td>\n",
       "      <td>2.75</td>\n",
       "      <td>United Kingdom</td>\n",
       "      <td>17850</td>\n",
       "    </tr>\n",
       "    <tr>\n",
       "      <th>3</th>\n",
       "      <td>536365</td>\n",
       "      <td>84029G</td>\n",
       "      <td>KNITTED UNION FLAG HOT WATER BOTTLE</td>\n",
       "      <td>6</td>\n",
       "      <td>2016-11-29</td>\n",
       "      <td>3.39</td>\n",
       "      <td>United Kingdom</td>\n",
       "      <td>17850</td>\n",
       "    </tr>\n",
       "    <tr>\n",
       "      <th>4</th>\n",
       "      <td>536365</td>\n",
       "      <td>84029E</td>\n",
       "      <td>RED WOOLLY HOTTIE WHITE HEART.</td>\n",
       "      <td>6</td>\n",
       "      <td>2016-11-29</td>\n",
       "      <td>3.39</td>\n",
       "      <td>United Kingdom</td>\n",
       "      <td>17850</td>\n",
       "    </tr>\n",
       "  </tbody>\n",
       "</table>\n",
       "</div>"
      ],
      "text/plain": [
       "  invoice_no stock_code                          description  quantity invoice_date  unit_price         country  customer_id\n",
       "0     536365     85123A   WHITE HANGING HEART T-LIGHT HOLDER         6   2016-11-29        2.55  United Kingdom        17850\n",
       "1     536365      71053                  WHITE METAL LANTERN         6   2016-11-29        3.39  United Kingdom        17850\n",
       "2     536365     84406B       CREAM CUPID HEARTS COAT HANGER         8   2016-11-29        2.75  United Kingdom        17850\n",
       "3     536365     84029G  KNITTED UNION FLAG HOT WATER BOTTLE         6   2016-11-29        3.39  United Kingdom        17850\n",
       "4     536365     84029E       RED WOOLLY HOTTIE WHITE HEART.         6   2016-11-29        3.39  United Kingdom        17850"
      ]
     },
     "execution_count": 22,
     "metadata": {},
     "output_type": "execute_result"
    }
   ],
   "source": [
    "df1.head()\n",
    "\n",
    "# Ação:\n",
    "# Deletar description, pois aparentemente não tem influência no fenomeno."
   ]
  },
  {
   "cell_type": "markdown",
   "id": "99c47074",
   "metadata": {},
   "source": [
    "#### Country"
   ]
  },
  {
   "cell_type": "code",
   "execution_count": 23,
   "id": "88c858ae",
   "metadata": {
    "ExecuteTime": {
     "end_time": "2022-07-07T09:46:56.887349Z",
     "start_time": "2022-07-07T09:46:56.844436Z"
    }
   },
   "outputs": [
    {
     "data": {
      "text/plain": [
       "array(['United Kingdom', 'France', 'Australia', 'Netherlands', 'Germany',\n",
       "       'Norway', 'EIRE', 'Switzerland', 'Spain', 'Poland', 'Portugal',\n",
       "       'Italy', 'Belgium', 'Lithuania', 'Japan', 'Iceland',\n",
       "       'Channel Islands', 'Denmark', 'Cyprus', 'Sweden', 'Austria',\n",
       "       'Israel', 'Finland', 'Bahrain', 'Greece', 'Hong Kong', 'Singapore',\n",
       "       'Lebanon', 'United Arab Emirates', 'Saudi Arabia',\n",
       "       'Czech Republic', 'Canada', 'Unspecified', 'Brazil', 'USA',\n",
       "       'European Community', 'Malta', 'RSA'], dtype=object)"
      ]
     },
     "execution_count": 23,
     "metadata": {},
     "output_type": "execute_result"
    }
   ],
   "source": [
    "df1['country'].unique()"
   ]
  },
  {
   "cell_type": "code",
   "execution_count": 24,
   "id": "1b28c598",
   "metadata": {
    "ExecuteTime": {
     "end_time": "2022-07-07T09:46:56.933568Z",
     "start_time": "2022-07-07T09:46:56.888345Z"
    }
   },
   "outputs": [
    {
     "data": {
      "text/plain": [
       "United Kingdom    0.914320\n",
       "Germany           0.017521\n",
       "France            0.015790\n",
       "EIRE              0.015124\n",
       "Spain             0.004674\n",
       "Name: country, dtype: float64"
      ]
     },
     "execution_count": 24,
     "metadata": {},
     "output_type": "execute_result"
    }
   ],
   "source": [
    "df1['country'].value_counts( normalize=True ).head()"
   ]
  },
  {
   "cell_type": "code",
   "execution_count": 25,
   "id": "72997a2c",
   "metadata": {
    "ExecuteTime": {
     "end_time": "2022-07-07T09:46:57.026561Z",
     "start_time": "2022-07-07T09:46:56.935062Z"
    }
   },
   "outputs": [
    {
     "data": {
      "text/html": [
       "<div>\n",
       "<style scoped>\n",
       "    .dataframe tbody tr th:only-of-type {\n",
       "        vertical-align: middle;\n",
       "    }\n",
       "\n",
       "    .dataframe tbody tr th {\n",
       "        vertical-align: top;\n",
       "    }\n",
       "\n",
       "    .dataframe thead th {\n",
       "        text-align: right;\n",
       "    }\n",
       "</style>\n",
       "<table border=\"1\" class=\"dataframe\">\n",
       "  <thead>\n",
       "    <tr style=\"text-align: right;\">\n",
       "      <th></th>\n",
       "      <th>country</th>\n",
       "      <th>customer_id</th>\n",
       "    </tr>\n",
       "  </thead>\n",
       "  <tbody>\n",
       "    <tr>\n",
       "      <th>36</th>\n",
       "      <td>United Kingdom</td>\n",
       "      <td>7587</td>\n",
       "    </tr>\n",
       "    <tr>\n",
       "      <th>14</th>\n",
       "      <td>Germany</td>\n",
       "      <td>95</td>\n",
       "    </tr>\n",
       "    <tr>\n",
       "      <th>13</th>\n",
       "      <td>France</td>\n",
       "      <td>90</td>\n",
       "    </tr>\n",
       "    <tr>\n",
       "      <th>10</th>\n",
       "      <td>EIRE</td>\n",
       "      <td>44</td>\n",
       "    </tr>\n",
       "    <tr>\n",
       "      <th>31</th>\n",
       "      <td>Spain</td>\n",
       "      <td>31</td>\n",
       "    </tr>\n",
       "  </tbody>\n",
       "</table>\n",
       "</div>"
      ],
      "text/plain": [
       "           country  customer_id\n",
       "36  United Kingdom         7587\n",
       "14         Germany           95\n",
       "13          France           90\n",
       "10            EIRE           44\n",
       "31           Spain           31"
      ]
     },
     "execution_count": 25,
     "metadata": {},
     "output_type": "execute_result"
    }
   ],
   "source": [
    "df1[['customer_id', 'country']].drop_duplicates().groupby( 'country' ).count().reset_index().sort_values( 'customer_id', ascending=False).head()"
   ]
  },
  {
   "cell_type": "markdown",
   "id": "9c6a4bae",
   "metadata": {},
   "source": [
    "# 2.0. Filtragem de Variáveis\n",
    "Adicionado a filtragem de variáveis antes do Feature engeneering pois como tem valores que precisavam ser tratados, o erro seria apenas propagado."
   ]
  },
  {
   "cell_type": "code",
   "execution_count": 54,
   "id": "d9a6358c",
   "metadata": {
    "ExecuteTime": {
     "end_time": "2022-07-07T09:56:26.773227Z",
     "start_time": "2022-07-07T09:56:26.744256Z"
    }
   },
   "outputs": [],
   "source": [
    "df2 = df1.copy()"
   ]
  },
  {
   "cell_type": "code",
   "execution_count": 55,
   "id": "d1a1c934",
   "metadata": {
    "ExecuteTime": {
     "end_time": "2022-07-07T09:56:27.328690Z",
     "start_time": "2022-07-07T09:56:27.114769Z"
    }
   },
   "outputs": [],
   "source": [
    "## -> Atributos numéricos\n",
    "# Unit Price > 0.0\n",
    "df2 = df2[df2['unit_price'] > 0.04]\n",
    "\n",
    "# Stock code != ['POST', 'D', 'DOT', 'M', 'S', 'AMAZONFEE', 'm', 'DCGSSBOY', 'DCGSSGIRL', 'PADS', 'B', 'CRUK']\n",
    "df2 = df2[~df2['stock_code'].isin( ['POST', 'D', 'DOT', 'M', 'S', 'AMAZONFEE', 'm', 'DCGSSBOY', 'DCGSSGIRL', 'PADS', 'B', 'CRUK'] )]\n",
    "\n",
    "# Description\n",
    "df2 = df2.drop( columns='description', axis=1 )\n",
    "\n",
    "# Map\n",
    "df2 = df2[~df2['country'].isin( ['European Comunity', 'Unspicified' ] )]\n",
    "\n",
    "# Quantidade - Números negativos\n",
    "df2_returns = df2[df2['quantity'] < 0]\n",
    "df2_purchases = df2[df2['quantity'] > 0]"
   ]
  },
  {
   "cell_type": "code",
   "execution_count": 56,
   "id": "83f59a58",
   "metadata": {
    "ExecuteTime": {
     "end_time": "2022-07-07T09:56:27.869006Z",
     "start_time": "2022-07-07T09:56:27.854013Z"
    }
   },
   "outputs": [
    {
     "data": {
      "text/html": [
       "<div>\n",
       "<style scoped>\n",
       "    .dataframe tbody tr th:only-of-type {\n",
       "        vertical-align: middle;\n",
       "    }\n",
       "\n",
       "    .dataframe tbody tr th {\n",
       "        vertical-align: top;\n",
       "    }\n",
       "\n",
       "    .dataframe thead th {\n",
       "        text-align: right;\n",
       "    }\n",
       "</style>\n",
       "<table border=\"1\" class=\"dataframe\">\n",
       "  <thead>\n",
       "    <tr style=\"text-align: right;\">\n",
       "      <th></th>\n",
       "      <th>invoice_no</th>\n",
       "      <th>stock_code</th>\n",
       "      <th>quantity</th>\n",
       "      <th>invoice_date</th>\n",
       "      <th>unit_price</th>\n",
       "      <th>country</th>\n",
       "      <th>customer_id</th>\n",
       "    </tr>\n",
       "  </thead>\n",
       "  <tbody>\n",
       "    <tr>\n",
       "      <th>154</th>\n",
       "      <td>C536383</td>\n",
       "      <td>35004C</td>\n",
       "      <td>-1</td>\n",
       "      <td>2016-11-29</td>\n",
       "      <td>4.65</td>\n",
       "      <td>United Kingdom</td>\n",
       "      <td>15311</td>\n",
       "    </tr>\n",
       "    <tr>\n",
       "      <th>235</th>\n",
       "      <td>C536391</td>\n",
       "      <td>22556</td>\n",
       "      <td>-12</td>\n",
       "      <td>2016-11-29</td>\n",
       "      <td>1.65</td>\n",
       "      <td>United Kingdom</td>\n",
       "      <td>17548</td>\n",
       "    </tr>\n",
       "    <tr>\n",
       "      <th>236</th>\n",
       "      <td>C536391</td>\n",
       "      <td>21984</td>\n",
       "      <td>-24</td>\n",
       "      <td>2016-11-29</td>\n",
       "      <td>0.29</td>\n",
       "      <td>United Kingdom</td>\n",
       "      <td>17548</td>\n",
       "    </tr>\n",
       "    <tr>\n",
       "      <th>237</th>\n",
       "      <td>C536391</td>\n",
       "      <td>21983</td>\n",
       "      <td>-24</td>\n",
       "      <td>2016-11-29</td>\n",
       "      <td>0.29</td>\n",
       "      <td>United Kingdom</td>\n",
       "      <td>17548</td>\n",
       "    </tr>\n",
       "    <tr>\n",
       "      <th>238</th>\n",
       "      <td>C536391</td>\n",
       "      <td>21980</td>\n",
       "      <td>-24</td>\n",
       "      <td>2016-11-29</td>\n",
       "      <td>0.29</td>\n",
       "      <td>United Kingdom</td>\n",
       "      <td>17548</td>\n",
       "    </tr>\n",
       "  </tbody>\n",
       "</table>\n",
       "</div>"
      ],
      "text/plain": [
       "    invoice_no stock_code  quantity invoice_date  unit_price         country  customer_id\n",
       "154    C536383     35004C        -1   2016-11-29        4.65  United Kingdom        15311\n",
       "235    C536391      22556       -12   2016-11-29        1.65  United Kingdom        17548\n",
       "236    C536391      21984       -24   2016-11-29        0.29  United Kingdom        17548\n",
       "237    C536391      21983       -24   2016-11-29        0.29  United Kingdom        17548\n",
       "238    C536391      21980       -24   2016-11-29        0.29  United Kingdom        17548"
      ]
     },
     "execution_count": 56,
     "metadata": {},
     "output_type": "execute_result"
    }
   ],
   "source": [
    "df2_returns.head()"
   ]
  },
  {
   "cell_type": "markdown",
   "id": "543f8554",
   "metadata": {},
   "source": [
    "# 3.0. Feature Engineering"
   ]
  },
  {
   "cell_type": "code",
   "execution_count": 57,
   "id": "3ecb5a7d",
   "metadata": {
    "ExecuteTime": {
     "end_time": "2022-07-07T09:56:29.656670Z",
     "start_time": "2022-07-07T09:56:29.650669Z"
    }
   },
   "outputs": [],
   "source": [
    "# Idéias de Features\n",
    "## Média móvel - 7d, 14d, 30d\n",
    "## Quantidade de compras por mês, antes do dia 15 e depois do dia 15, ou por semana.\n",
    "## Média referene ao financeiro\n",
    "## Basket size"
   ]
  },
  {
   "cell_type": "code",
   "execution_count": 58,
   "id": "19547fdc",
   "metadata": {
    "ExecuteTime": {
     "end_time": "2022-07-07T09:56:30.489003Z",
     "start_time": "2022-07-07T09:56:30.458998Z"
    }
   },
   "outputs": [],
   "source": [
    "df3 = df2.copy()"
   ]
  },
  {
   "cell_type": "markdown",
   "id": "226de2ad",
   "metadata": {},
   "source": [
    "## 3.1. Criação de features"
   ]
  },
  {
   "cell_type": "code",
   "execution_count": 59,
   "id": "474afb8b",
   "metadata": {
    "ExecuteTime": {
     "end_time": "2022-07-07T09:56:31.291879Z",
     "start_time": "2022-07-07T09:56:31.258380Z"
    }
   },
   "outputs": [
    {
     "data": {
      "text/plain": [
       "(5797, 1)"
      ]
     },
     "execution_count": 59,
     "metadata": {},
     "output_type": "execute_result"
    }
   ],
   "source": [
    "df_ref = df3[['customer_id']].drop_duplicates( ignore_index=True )\n",
    "df_ref.shape"
   ]
  },
  {
   "cell_type": "markdown",
   "id": "bf907fc5",
   "metadata": {},
   "source": [
    "### 3.1.1. Gross Revenue - Faturamento"
   ]
  },
  {
   "cell_type": "code",
   "execution_count": 60,
   "id": "41902451",
   "metadata": {
    "ExecuteTime": {
     "end_time": "2022-07-07T09:56:35.438739Z",
     "start_time": "2022-07-07T09:56:35.385239Z"
    }
   },
   "outputs": [
    {
     "name": "stderr",
     "output_type": "stream",
     "text": [
      "C:\\Users\\laurivan\\anaconda3\\envs\\dsEmProducao\\lib\\site-packages\\pandas\\core\\indexing.py:1667: SettingWithCopyWarning: \n",
      "A value is trying to be set on a copy of a slice from a DataFrame.\n",
      "Try using .loc[row_indexer,col_indexer] = value instead\n",
      "\n",
      "See the caveats in the documentation: https://pandas.pydata.org/pandas-docs/stable/user_guide/indexing.html#returning-a-view-versus-a-copy\n",
      "  self.obj[key] = value\n"
     ]
    }
   ],
   "source": [
    "# Gross Revenue - Faturamento\n",
    "df2_purchases.loc[:, 'gross_revenue'] = df2_purchases.loc[:, 'quantity'] * df2_purchases.loc[:, 'unit_price']\n",
    "\n",
    "# Monetary\n",
    "df_monetary = df2_purchases.loc[ : , ['customer_id', 'gross_revenue']].groupby( 'customer_id' ).sum().reset_index()\n",
    "df_ref = pd.merge( df_ref, df_monetary, on='customer_id', how='left')"
   ]
  },
  {
   "cell_type": "code",
   "execution_count": 61,
   "id": "372c43c1",
   "metadata": {
    "ExecuteTime": {
     "end_time": "2022-07-07T09:56:37.902762Z",
     "start_time": "2022-07-07T09:56:37.889762Z"
    }
   },
   "outputs": [
    {
     "data": {
      "text/html": [
       "<div>\n",
       "<style scoped>\n",
       "    .dataframe tbody tr th:only-of-type {\n",
       "        vertical-align: middle;\n",
       "    }\n",
       "\n",
       "    .dataframe tbody tr th {\n",
       "        vertical-align: top;\n",
       "    }\n",
       "\n",
       "    .dataframe thead th {\n",
       "        text-align: right;\n",
       "    }\n",
       "</style>\n",
       "<table border=\"1\" class=\"dataframe\">\n",
       "  <thead>\n",
       "    <tr style=\"text-align: right;\">\n",
       "      <th></th>\n",
       "      <th>customer_id</th>\n",
       "      <th>gross_revenue</th>\n",
       "    </tr>\n",
       "  </thead>\n",
       "  <tbody>\n",
       "    <tr>\n",
       "      <th>0</th>\n",
       "      <td>17850</td>\n",
       "      <td>5391.21</td>\n",
       "    </tr>\n",
       "    <tr>\n",
       "      <th>1</th>\n",
       "      <td>13047</td>\n",
       "      <td>3232.59</td>\n",
       "    </tr>\n",
       "    <tr>\n",
       "      <th>2</th>\n",
       "      <td>12583</td>\n",
       "      <td>6705.38</td>\n",
       "    </tr>\n",
       "    <tr>\n",
       "      <th>3</th>\n",
       "      <td>13748</td>\n",
       "      <td>948.25</td>\n",
       "    </tr>\n",
       "    <tr>\n",
       "      <th>4</th>\n",
       "      <td>15100</td>\n",
       "      <td>876.00</td>\n",
       "    </tr>\n",
       "  </tbody>\n",
       "</table>\n",
       "</div>"
      ],
      "text/plain": [
       "   customer_id  gross_revenue\n",
       "0        17850        5391.21\n",
       "1        13047        3232.59\n",
       "2        12583        6705.38\n",
       "3        13748         948.25\n",
       "4        15100         876.00"
      ]
     },
     "execution_count": 61,
     "metadata": {},
     "output_type": "execute_result"
    }
   ],
   "source": [
    "df_ref.head()"
   ]
  },
  {
   "cell_type": "markdown",
   "id": "79f99f06",
   "metadata": {},
   "source": [
    "### 3.1.2. Recency - Dias da última compra"
   ]
  },
  {
   "cell_type": "code",
   "execution_count": 62,
   "id": "8f23c3c2",
   "metadata": {
    "ExecuteTime": {
     "end_time": "2022-07-07T09:56:39.355199Z",
     "start_time": "2022-07-07T09:56:39.316197Z"
    }
   },
   "outputs": [],
   "source": [
    "# Recência - Últimno dia com compra\n",
    "df_recency = ( df2_purchases.loc[ : , ['customer_id', 'invoice_date']].groupby( 'customer_id' )\n",
    "                                                                      .max()\n",
    "                                                                      .reset_index() )\n",
    "\n",
    "df_recency['recency_days'] = ( df2_purchases['invoice_date'].max() - df_recency['invoice_date'] ).dt.days\n",
    "df_recency = df_recency[['customer_id', 'recency_days']].copy()\n",
    "\n",
    "df_ref = pd.merge( df_ref, df_recency, on='customer_id', how='left')"
   ]
  },
  {
   "cell_type": "markdown",
   "id": "902135b9",
   "metadata": {},
   "source": [
    "### 3.1.3. Quantidade de compras efetuadas"
   ]
  },
  {
   "cell_type": "code",
   "execution_count": 63,
   "id": "65e47157",
   "metadata": {
    "ExecuteTime": {
     "end_time": "2022-07-07T09:56:40.576847Z",
     "start_time": "2022-07-07T09:56:40.493560Z"
    }
   },
   "outputs": [],
   "source": [
    "# Número de vendas efetuadas\n",
    "df_freq = (df2_purchases[['customer_id', 'invoice_no']].drop_duplicates()\n",
    "                                                      .groupby( 'customer_id' )\n",
    "                                                      .count()\n",
    "                                                      .reset_index()\n",
    "                                                      .rename( columns={'invoice_no': 'qtde_invoices'}))\n",
    "\n",
    "df_ref = pd.merge( df_ref, df_freq, on='customer_id', how='left')"
   ]
  },
  {
   "cell_type": "code",
   "execution_count": 64,
   "id": "c7802b5c",
   "metadata": {
    "ExecuteTime": {
     "end_time": "2022-07-07T09:56:40.977197Z",
     "start_time": "2022-07-07T09:56:40.966217Z"
    }
   },
   "outputs": [
    {
     "data": {
      "text/html": [
       "<div>\n",
       "<style scoped>\n",
       "    .dataframe tbody tr th:only-of-type {\n",
       "        vertical-align: middle;\n",
       "    }\n",
       "\n",
       "    .dataframe tbody tr th {\n",
       "        vertical-align: top;\n",
       "    }\n",
       "\n",
       "    .dataframe thead th {\n",
       "        text-align: right;\n",
       "    }\n",
       "</style>\n",
       "<table border=\"1\" class=\"dataframe\">\n",
       "  <thead>\n",
       "    <tr style=\"text-align: right;\">\n",
       "      <th></th>\n",
       "      <th>customer_id</th>\n",
       "      <th>gross_revenue</th>\n",
       "      <th>recency_days</th>\n",
       "      <th>qtde_invoices</th>\n",
       "    </tr>\n",
       "  </thead>\n",
       "  <tbody>\n",
       "    <tr>\n",
       "      <th>0</th>\n",
       "      <td>17850</td>\n",
       "      <td>5391.21</td>\n",
       "      <td>372.0</td>\n",
       "      <td>34.0</td>\n",
       "    </tr>\n",
       "    <tr>\n",
       "      <th>1</th>\n",
       "      <td>13047</td>\n",
       "      <td>3232.59</td>\n",
       "      <td>56.0</td>\n",
       "      <td>9.0</td>\n",
       "    </tr>\n",
       "    <tr>\n",
       "      <th>2</th>\n",
       "      <td>12583</td>\n",
       "      <td>6705.38</td>\n",
       "      <td>2.0</td>\n",
       "      <td>15.0</td>\n",
       "    </tr>\n",
       "    <tr>\n",
       "      <th>3</th>\n",
       "      <td>13748</td>\n",
       "      <td>948.25</td>\n",
       "      <td>95.0</td>\n",
       "      <td>5.0</td>\n",
       "    </tr>\n",
       "    <tr>\n",
       "      <th>4</th>\n",
       "      <td>15100</td>\n",
       "      <td>876.00</td>\n",
       "      <td>333.0</td>\n",
       "      <td>3.0</td>\n",
       "    </tr>\n",
       "  </tbody>\n",
       "</table>\n",
       "</div>"
      ],
      "text/plain": [
       "   customer_id  gross_revenue  recency_days  qtde_invoices\n",
       "0        17850        5391.21         372.0           34.0\n",
       "1        13047        3232.59          56.0            9.0\n",
       "2        12583        6705.38           2.0           15.0\n",
       "3        13748         948.25          95.0            5.0\n",
       "4        15100         876.00         333.0            3.0"
      ]
     },
     "execution_count": 64,
     "metadata": {},
     "output_type": "execute_result"
    }
   ],
   "source": [
    "df_ref.head()"
   ]
  },
  {
   "cell_type": "markdown",
   "id": "31717a32",
   "metadata": {},
   "source": [
    "### 3.1.4. Quantidade de produtos comprados"
   ]
  },
  {
   "cell_type": "code",
   "execution_count": 65,
   "id": "a11a3bb3",
   "metadata": {
    "ExecuteTime": {
     "end_time": "2022-07-07T09:56:42.182571Z",
     "start_time": "2022-07-07T09:56:42.136591Z"
    }
   },
   "outputs": [
    {
     "data": {
      "text/html": [
       "<div>\n",
       "<style scoped>\n",
       "    .dataframe tbody tr th:only-of-type {\n",
       "        vertical-align: middle;\n",
       "    }\n",
       "\n",
       "    .dataframe tbody tr th {\n",
       "        vertical-align: top;\n",
       "    }\n",
       "\n",
       "    .dataframe thead th {\n",
       "        text-align: right;\n",
       "    }\n",
       "</style>\n",
       "<table border=\"1\" class=\"dataframe\">\n",
       "  <thead>\n",
       "    <tr style=\"text-align: right;\">\n",
       "      <th></th>\n",
       "      <th>customer_id</th>\n",
       "      <th>gross_revenue</th>\n",
       "      <th>recency_days</th>\n",
       "      <th>qtde_invoices</th>\n",
       "      <th>qtde_products</th>\n",
       "    </tr>\n",
       "  </thead>\n",
       "  <tbody>\n",
       "    <tr>\n",
       "      <th>0</th>\n",
       "      <td>17850</td>\n",
       "      <td>5391.21</td>\n",
       "      <td>372.0</td>\n",
       "      <td>34.0</td>\n",
       "      <td>1733.0</td>\n",
       "    </tr>\n",
       "    <tr>\n",
       "      <th>1</th>\n",
       "      <td>13047</td>\n",
       "      <td>3232.59</td>\n",
       "      <td>56.0</td>\n",
       "      <td>9.0</td>\n",
       "      <td>1390.0</td>\n",
       "    </tr>\n",
       "    <tr>\n",
       "      <th>2</th>\n",
       "      <td>12583</td>\n",
       "      <td>6705.38</td>\n",
       "      <td>2.0</td>\n",
       "      <td>15.0</td>\n",
       "      <td>5028.0</td>\n",
       "    </tr>\n",
       "    <tr>\n",
       "      <th>3</th>\n",
       "      <td>13748</td>\n",
       "      <td>948.25</td>\n",
       "      <td>95.0</td>\n",
       "      <td>5.0</td>\n",
       "      <td>439.0</td>\n",
       "    </tr>\n",
       "    <tr>\n",
       "      <th>4</th>\n",
       "      <td>15100</td>\n",
       "      <td>876.00</td>\n",
       "      <td>333.0</td>\n",
       "      <td>3.0</td>\n",
       "      <td>80.0</td>\n",
       "    </tr>\n",
       "  </tbody>\n",
       "</table>\n",
       "</div>"
      ],
      "text/plain": [
       "   customer_id  gross_revenue  recency_days  qtde_invoices  qtde_products\n",
       "0        17850        5391.21         372.0           34.0         1733.0\n",
       "1        13047        3232.59          56.0            9.0         1390.0\n",
       "2        12583        6705.38           2.0           15.0         5028.0\n",
       "3        13748         948.25          95.0            5.0          439.0\n",
       "4        15100         876.00         333.0            3.0           80.0"
      ]
     },
     "execution_count": 65,
     "metadata": {},
     "output_type": "execute_result"
    }
   ],
   "source": [
    "# Quantidade de produtos comprados por cliente.\n",
    "df_freq = ( df2_purchases[['customer_id', 'quantity']].groupby( 'customer_id' )\n",
    "                                                     .sum()\n",
    "                                                     .reset_index()\n",
    "                                                     .rename( columns={'quantity':'qtde_products' } ) )\n",
    "\n",
    "df_ref = pd.merge( df_ref, df_freq, on='customer_id', how='left')\n",
    "df_ref.head()"
   ]
  },
  {
   "cell_type": "markdown",
   "id": "72cd2acd",
   "metadata": {},
   "source": [
    "### 3.1.5. Averange Ticket Value - Ticket Médio"
   ]
  },
  {
   "cell_type": "code",
   "execution_count": 66,
   "id": "586104f5",
   "metadata": {
    "ExecuteTime": {
     "end_time": "2022-07-07T09:56:43.078474Z",
     "start_time": "2022-07-07T09:56:43.037444Z"
    }
   },
   "outputs": [],
   "source": [
    "# Ticket médio\n",
    "df_avg_ticket = ( df2_purchases[['customer_id', 'gross_revenue']].groupby( 'customer_id' )\n",
    "                                                                 .mean()\n",
    "                                                                 .reset_index()\n",
    "                                                                 .rename( columns={'gross_revenue': 'avg_ticket'} ) )\n",
    "\n",
    "df_ref = pd.merge( df_ref, df_avg_ticket, on='customer_id', how='left')"
   ]
  },
  {
   "cell_type": "markdown",
   "id": "06b6e7ad",
   "metadata": {
    "ExecuteTime": {
     "end_time": "2022-07-05T10:23:30.873452Z",
     "start_time": "2022-07-05T10:23:30.870451Z"
    }
   },
   "source": [
    "### 3.1.6. Averange Recency Days - Média Intervalo de Compra"
   ]
  },
  {
   "cell_type": "code",
   "execution_count": 67,
   "id": "3fbc63ee",
   "metadata": {
    "ExecuteTime": {
     "end_time": "2022-07-07T09:56:44.960082Z",
     "start_time": "2022-07-07T09:56:44.498081Z"
    }
   },
   "outputs": [
    {
     "data": {
      "text/plain": [
       "customer_id            0\n",
       "gross_revenue         91\n",
       "recency_days          91\n",
       "qtde_invoices         91\n",
       "qtde_products         91\n",
       "avg_ticket            91\n",
       "avg_recency_days    2822\n",
       "dtype: int64"
      ]
     },
     "execution_count": 67,
     "metadata": {},
     "output_type": "execute_result"
    }
   ],
   "source": [
    "# Média do intervalo de compra\n",
    "df_aux = df2[['customer_id', 'invoice_date']].drop_duplicates().sort_values( ['customer_id', 'invoice_date'], ascending=['False', 'False'] )\n",
    "# Próximo Cliente\n",
    "df_aux['next_customer_id'] = df_aux['customer_id'].shift()\n",
    "# Próxima Data\n",
    "df_aux['previous_date'] = df_aux['invoice_date'].shift()\n",
    "\n",
    "df_aux['avg_recency_days'] = df_aux.apply( lambda x: x['previous_date'] if x['customer_id'] == x['next_customer_id'] else np.nan, axis=1 )\n",
    "\n",
    "df_aux = df_aux.drop( ['invoice_date', 'next_customer_id', 'previous_date'], axis=1 ).dropna()\n",
    "\n",
    "# average recency \n",
    "df_avg_recency_days = df_aux.groupby( 'customer_id' ).mean().reset_index()\n",
    "\n",
    "# merge\n",
    "df_ref = pd.merge( df_ref, df_avg_recency_days, on='customer_id', how='left' )\n",
    "\n",
    "df_ref.isna().sum()"
   ]
  },
  {
   "cell_type": "markdown",
   "id": "a3750ac6",
   "metadata": {},
   "source": [
    "### 3.1.7. Frequência de Compra"
   ]
  },
  {
   "cell_type": "code",
   "execution_count": 68,
   "id": "abc0fbf3",
   "metadata": {
    "ExecuteTime": {
     "end_time": "2022-07-07T09:56:46.552500Z",
     "start_time": "2022-07-07T09:56:45.581474Z"
    }
   },
   "outputs": [
    {
     "data": {
      "text/plain": [
       "customer_id            0\n",
       "gross_revenue         91\n",
       "recency_days          91\n",
       "qtde_invoices         91\n",
       "qtde_products         91\n",
       "avg_ticket            91\n",
       "avg_recency_days    2822\n",
       "frequency              0\n",
       "dtype: int64"
      ]
     },
     "execution_count": 68,
     "metadata": {},
     "output_type": "execute_result"
    }
   ],
   "source": [
    "df_aux = ( df2[['customer_id', 'invoice_no', 'invoice_date']].drop_duplicates()\n",
    "                                                             .groupby( 'customer_id')\n",
    "                                                             .agg( max_ = ( 'invoice_date', 'max' ), \n",
    "                                                                   min_ = ( 'invoice_date', 'min' ),\n",
    "                                                                   days_= ( 'invoice_date', lambda x: ( ( x.max() - x.min() ).days ) + 1 ),\n",
    "                                                                   buy_ = ( 'invoice_no', 'count' ) ) ).reset_index()\n",
    "\n",
    "# Frequency\n",
    "df_aux['frequency'] = df_aux[['buy_', 'days_']].apply( lambda x: x['buy_'] / x['days_'] if  x['days_'] != 0 else 0, axis=1 )\n",
    "\n",
    "# Merge\n",
    "df_ref = pd.merge( df_ref, df_aux[['customer_id', 'frequency']], on='customer_id', how='left' )\n",
    "\n",
    "df_ref.isna().sum()    "
   ]
  },
  {
   "cell_type": "markdown",
   "id": "50f3c498",
   "metadata": {},
   "source": [
    "### 3.1.8. Devoluções"
   ]
  },
  {
   "cell_type": "code",
   "execution_count": 69,
   "id": "76c46e68",
   "metadata": {
    "ExecuteTime": {
     "end_time": "2022-07-07T09:56:46.998990Z",
     "start_time": "2022-07-07T09:56:46.989490Z"
    }
   },
   "outputs": [],
   "source": [
    "# # Número de devoluções\n",
    "# df_returns = df2_returns[['customer_id', 'invoice_no']].groupby( 'customer_id' ).count().reset_index().rename( columns={'invoice_no': 'returns'})\n",
    "# df_ref = pd.merge( df_ref, df_returns, on='customer_id', how='left')\n",
    "# df_ref.loc[df_ref['returns'].isna(), 'returns'] = 0"
   ]
  },
  {
   "cell_type": "code",
   "execution_count": 70,
   "id": "618e9753",
   "metadata": {
    "ExecuteTime": {
     "end_time": "2022-07-07T09:56:47.275651Z",
     "start_time": "2022-07-07T09:56:47.251129Z"
    }
   },
   "outputs": [
    {
     "data": {
      "text/plain": [
       "customer_id            0\n",
       "gross_revenue         91\n",
       "recency_days          91\n",
       "qtde_invoices         91\n",
       "qtde_products         91\n",
       "avg_ticket            91\n",
       "avg_recency_days    2822\n",
       "frequency              0\n",
       "qtde_returns           0\n",
       "dtype: int64"
      ]
     },
     "execution_count": 70,
     "metadata": {},
     "output_type": "execute_result"
    }
   ],
   "source": [
    "# Soma quantidade de devoluções\n",
    "df_returns = ( df2_returns[['customer_id', 'quantity']].groupby( 'customer_id' )\n",
    "                                                       .sum()\n",
    "                                                       .reset_index()\n",
    "                                                       .rename( columns={'quantity': 'qtde_returns'} ) )\n",
    "\n",
    "df_returns['qtde_returns'] = df_returns['qtde_returns'] * -1\n",
    "\n",
    "df_ref = pd.merge( df_ref, df_returns, on='customer_id', how='left')\n",
    "df_ref.loc[df_ref['qtde_returns'].isna(), 'qtde_returns'] = 0\n",
    "\n",
    "df_ref.isna().sum()  "
   ]
  },
  {
   "cell_type": "markdown",
   "id": "c6fa52a2",
   "metadata": {},
   "source": [
    "### 3.1.9. Basket Size - Quantidade de Itens por Cesta - Quantity\n",
    "- Invoice no = compra = purchase\n",
    "- stock code = Produto = Product\n",
    "- Quantity = Item = Item"
   ]
  },
  {
   "cell_type": "code",
   "execution_count": 71,
   "id": "9af64ad1",
   "metadata": {
    "ExecuteTime": {
     "end_time": "2022-07-07T09:56:48.509948Z",
     "start_time": "2022-07-07T09:56:48.408441Z"
    }
   },
   "outputs": [
    {
     "data": {
      "text/plain": [
       "customer_id            0\n",
       "gross_revenue         91\n",
       "recency_days          91\n",
       "qtde_invoices         91\n",
       "qtde_products         91\n",
       "avg_ticket            91\n",
       "avg_recency_days    2822\n",
       "frequency              0\n",
       "qtde_returns           0\n",
       "avg_basket_size       91\n",
       "dtype: int64"
      ]
     },
     "execution_count": 71,
     "metadata": {},
     "output_type": "execute_result"
    }
   ],
   "source": [
    "df_aux = ( df2_purchases.loc[:, ['customer_id', 'invoice_no', 'quantity']].groupby( 'customer_id' )\n",
    "                                                                          .agg( n_purchase=( 'invoice_no', 'nunique'),\n",
    "                                                                                n_products=( 'quantity', 'sum' ) )\n",
    "                                                                          .reset_index() )\n",
    "\n",
    "# Cálculo média\n",
    "df_aux['avg_basket_size'] = df_aux['n_products'] / df_aux['n_purchase']\n",
    "\n",
    "# merge\n",
    "df_ref = pd.merge( df_ref, df_aux[['customer_id', 'avg_basket_size']], how='left', on='customer_id' )\n",
    "df_ref.isna().sum()"
   ]
  },
  {
   "cell_type": "markdown",
   "id": "85511642",
   "metadata": {},
   "source": [
    "### 3.1.10. Unique Basket Size - Quantidade de produtos distintos por compra\n",
    "- Ver se realmente é a melhor forma de calcular esta feature e qual o retorno dela"
   ]
  },
  {
   "cell_type": "code",
   "execution_count": 72,
   "id": "eee7887d",
   "metadata": {
    "ExecuteTime": {
     "end_time": "2022-07-07T09:56:49.419733Z",
     "start_time": "2022-07-07T09:56:49.215912Z"
    }
   },
   "outputs": [
    {
     "data": {
      "text/plain": [
       "customer_id                  0\n",
       "gross_revenue               91\n",
       "recency_days                91\n",
       "qtde_invoices               91\n",
       "qtde_products               91\n",
       "avg_ticket                  91\n",
       "avg_recency_days          2822\n",
       "frequency                    0\n",
       "qtde_returns                 0\n",
       "avg_basket_size             91\n",
       "avg_unique_basket_size      91\n",
       "dtype: int64"
      ]
     },
     "execution_count": 72,
     "metadata": {},
     "output_type": "execute_result"
    }
   ],
   "source": [
    " df_aux = ( df2_purchases.loc[:, ['customer_id', 'invoice_no', 'stock_code']].groupby( 'customer_id' )\n",
    "                                                                             .agg( n_purchase=( 'invoice_no', 'nunique'),\n",
    "                                                                                    n_products=( 'stock_code', 'nunique' ) )\n",
    "                                                                             .reset_index() )\n",
    "\n",
    "# calculation\n",
    "df_aux['avg_unique_basket_size'] = df_aux['n_products'] / df_aux['n_purchase']\n",
    "\n",
    "# merge\n",
    "df_ref = pd.merge( df_ref, df_aux[['customer_id', 'avg_unique_basket_size']], how='left', on='customer_id' )\n",
    "\n",
    "df_ref.isna().sum()"
   ]
  },
  {
   "cell_type": "code",
   "execution_count": 73,
   "id": "3847bb19",
   "metadata": {
    "ExecuteTime": {
     "end_time": "2022-07-07T09:56:49.465856Z",
     "start_time": "2022-07-07T09:56:49.451376Z"
    }
   },
   "outputs": [
    {
     "data": {
      "text/plain": [
       "customer_id                  0\n",
       "gross_revenue               91\n",
       "recency_days                91\n",
       "qtde_invoices               91\n",
       "qtde_products               91\n",
       "avg_ticket                  91\n",
       "avg_recency_days          2822\n",
       "frequency                    0\n",
       "qtde_returns                 0\n",
       "avg_basket_size             91\n",
       "avg_unique_basket_size      91\n",
       "dtype: int64"
      ]
     },
     "execution_count": 73,
     "metadata": {},
     "output_type": "execute_result"
    }
   ],
   "source": [
    "df_ref.isna().sum()"
   ]
  },
  {
   "cell_type": "code",
   "execution_count": 74,
   "id": "3179e26c",
   "metadata": {
    "ExecuteTime": {
     "end_time": "2022-07-07T09:56:50.052397Z",
     "start_time": "2022-07-07T09:56:50.044895Z"
    }
   },
   "outputs": [],
   "source": [
    "# df_ref = df3[['customer_id']].drop_duplicates( ignore_index=True )\n",
    "# # Gross Revenue - Faturamento\n",
    "# df3['gross_revenue'] = df3['quantity'] * df3['unit_price']\n",
    "\n",
    "# # Monetary\n",
    "# df_monetary = df3[['customer_id', 'gross_revenue']].groupby( 'customer_id' ).sum().reset_index()\n",
    "# df_ref = pd.merge( df_ref, df_monetary, on='customer_id', how='left')\n",
    "\n",
    "# # Recência - Últimno dia com compra\n",
    "# df_recency = df3[['customer_id', 'invoice_date']].groupby( 'customer_id' ).max().reset_index()\n",
    "# df_recency['recency_days'] = ( df3['invoice_date'].max() - df_recency['invoice_date'] ).dt.days\n",
    "# df_recency = df_recency[['customer_id', 'recency_days']].copy()\n",
    "# df_ref = pd.merge( df_ref, df_recency, on='customer_id', how='left')\n",
    "\n",
    "# # Frequência\n",
    "# df_freq = df3[['customer_id', 'invoice_no']].drop_duplicates().groupby( 'customer_id' ).count().reset_index()\n",
    "# df_ref = pd.merge( df_ref, df_freq, on='customer_id', how='left')\n",
    "\n",
    "# # Ticket médio\n",
    "# df_avg_ticket = df3[['customer_id', 'gross_revenue']].groupby( 'customer_id' ).mean().reset_index().rename( columns={'gross_revenue': 'avg_ticket'})\n",
    "# df_ref = pd.merge( df_ref, df_avg_ticket, on='customer_id', how='left')"
   ]
  },
  {
   "cell_type": "markdown",
   "id": "ef93d0d5",
   "metadata": {},
   "source": [
    "# 4.0. Análise Exploratória dos Dados - EDA"
   ]
  },
  {
   "cell_type": "code",
   "execution_count": 103,
   "id": "5276a686",
   "metadata": {
    "ExecuteTime": {
     "end_time": "2022-07-07T10:19:33.254036Z",
     "start_time": "2022-07-07T10:19:33.236067Z"
    }
   },
   "outputs": [],
   "source": [
    "df4 = df_ref.dropna().copy()"
   ]
  },
  {
   "cell_type": "markdown",
   "id": "aea36683",
   "metadata": {
    "ExecuteTime": {
     "end_time": "2022-07-06T11:55:31.953704Z",
     "start_time": "2022-07-06T11:55:31.942204Z"
    }
   },
   "source": [
    "## Sweetviz"
   ]
  },
  {
   "cell_type": "code",
   "execution_count": 104,
   "id": "3ae148dc",
   "metadata": {
    "ExecuteTime": {
     "end_time": "2022-07-07T10:19:37.802268Z",
     "start_time": "2022-07-07T10:19:33.933556Z"
    },
    "scrolled": true
   },
   "outputs": [
    {
     "data": {
      "application/vnd.jupyter.widget-view+json": {
       "model_id": "aca8815d52824a719670c70647e0036e",
       "version_major": 2,
       "version_minor": 0
      },
      "text/plain": [
       "                                             |          | [  0%]   00:00 -> (? left)"
      ]
     },
     "metadata": {},
     "output_type": "display_data"
    }
   ],
   "source": [
    "import sweetviz as sv\n",
    "\n",
    "report = sv.analyze(df4)\n",
    "# report.show_html()\n",
    "# report.show_notebook()"
   ]
  },
  {
   "cell_type": "markdown",
   "id": "57724036",
   "metadata": {},
   "source": [
    "## Pandas Profiling"
   ]
  },
  {
   "cell_type": "code",
   "execution_count": 105,
   "id": "3f616314",
   "metadata": {
    "ExecuteTime": {
     "end_time": "2022-07-07T10:19:37.817760Z",
     "start_time": "2022-07-07T10:19:37.803734Z"
    },
    "scrolled": true
   },
   "outputs": [],
   "source": [
    "from pandas_profiling import ProfileReport\n",
    "profile = ProfileReport( df4 )\n",
    "# profile.to_file(\"output.html\")\n",
    "# profile.to_notebook_iframe()"
   ]
  },
  {
   "cell_type": "markdown",
   "id": "510bec64",
   "metadata": {},
   "source": [
    "## 4.1. Análise Univariada"
   ]
  },
  {
   "cell_type": "markdown",
   "id": "d17ec72a",
   "metadata": {},
   "source": [
    "### 4.1.1. Gross Revenue"
   ]
  },
  {
   "cell_type": "code",
   "execution_count": 106,
   "id": "71f31164",
   "metadata": {
    "ExecuteTime": {
     "end_time": "2022-07-07T10:19:37.848735Z",
     "start_time": "2022-07-07T10:19:37.820739Z"
    }
   },
   "outputs": [
    {
     "data": {
      "text/html": [
       "<div>\n",
       "<style scoped>\n",
       "    .dataframe tbody tr th:only-of-type {\n",
       "        vertical-align: middle;\n",
       "    }\n",
       "\n",
       "    .dataframe tbody tr th {\n",
       "        vertical-align: top;\n",
       "    }\n",
       "\n",
       "    .dataframe thead th {\n",
       "        text-align: right;\n",
       "    }\n",
       "</style>\n",
       "<table border=\"1\" class=\"dataframe\">\n",
       "  <thead>\n",
       "    <tr style=\"text-align: right;\">\n",
       "      <th></th>\n",
       "      <th>customer_id</th>\n",
       "      <th>gross_revenue</th>\n",
       "      <th>recency_days</th>\n",
       "      <th>qtde_invoices</th>\n",
       "      <th>qtde_products</th>\n",
       "      <th>avg_ticket</th>\n",
       "      <th>avg_recency_days</th>\n",
       "      <th>frequency</th>\n",
       "      <th>qtde_returns</th>\n",
       "      <th>avg_basket_size</th>\n",
       "      <th>avg_unique_basket_size</th>\n",
       "    </tr>\n",
       "  </thead>\n",
       "  <tbody>\n",
       "    <tr>\n",
       "      <th>1017</th>\n",
       "      <td>14646</td>\n",
       "      <td>279138.02</td>\n",
       "      <td>1.0</td>\n",
       "      <td>72.0</td>\n",
       "      <td>196844.0</td>\n",
       "      <td>135.503893</td>\n",
       "      <td>2017-06-26 11:12:00.000000000</td>\n",
       "      <td>0.206215</td>\n",
       "      <td>288.0</td>\n",
       "      <td>2733.944444</td>\n",
       "      <td>9.708333</td>\n",
       "    </tr>\n",
       "    <tr>\n",
       "      <th>492</th>\n",
       "      <td>18102</td>\n",
       "      <td>259657.30</td>\n",
       "      <td>0.0</td>\n",
       "      <td>60.0</td>\n",
       "      <td>64124.0</td>\n",
       "      <td>602.453132</td>\n",
       "      <td>2017-07-04 08:38:24.000000000</td>\n",
       "      <td>0.163043</td>\n",
       "      <td>0.0</td>\n",
       "      <td>1068.733333</td>\n",
       "      <td>2.500000</td>\n",
       "    </tr>\n",
       "    <tr>\n",
       "      <th>433</th>\n",
       "      <td>17450</td>\n",
       "      <td>194550.79</td>\n",
       "      <td>8.0</td>\n",
       "      <td>46.0</td>\n",
       "      <td>69993.0</td>\n",
       "      <td>577.302047</td>\n",
       "      <td>2017-07-18 22:17:08.571428608</td>\n",
       "      <td>0.136111</td>\n",
       "      <td>952.0</td>\n",
       "      <td>1521.586957</td>\n",
       "      <td>2.695652</td>\n",
       "    </tr>\n",
       "    <tr>\n",
       "      <th>3341</th>\n",
       "      <td>16446</td>\n",
       "      <td>168472.50</td>\n",
       "      <td>0.0</td>\n",
       "      <td>2.0</td>\n",
       "      <td>80997.0</td>\n",
       "      <td>56157.500000</td>\n",
       "      <td>2017-05-16 00:00:00.000000000</td>\n",
       "      <td>0.014563</td>\n",
       "      <td>80995.0</td>\n",
       "      <td>40498.500000</td>\n",
       "      <td>1.500000</td>\n",
       "    </tr>\n",
       "    <tr>\n",
       "      <th>66</th>\n",
       "      <td>14911</td>\n",
       "      <td>140438.72</td>\n",
       "      <td>1.0</td>\n",
       "      <td>199.0</td>\n",
       "      <td>79963.0</td>\n",
       "      <td>24.768734</td>\n",
       "      <td>2017-07-03 16:16:46.993007104</td>\n",
       "      <td>0.651475</td>\n",
       "      <td>3332.0</td>\n",
       "      <td>401.824121</td>\n",
       "      <td>8.969849</td>\n",
       "    </tr>\n",
       "  </tbody>\n",
       "</table>\n",
       "</div>"
      ],
      "text/plain": [
       "      customer_id  gross_revenue  recency_days  qtde_invoices  qtde_products    avg_ticket              avg_recency_days  frequency  qtde_returns  avg_basket_size  avg_unique_basket_size\n",
       "1017        14646      279138.02           1.0           72.0       196844.0    135.503893 2017-06-26 11:12:00.000000000   0.206215         288.0      2733.944444                9.708333\n",
       "492         18102      259657.30           0.0           60.0        64124.0    602.453132 2017-07-04 08:38:24.000000000   0.163043           0.0      1068.733333                2.500000\n",
       "433         17450      194550.79           8.0           46.0        69993.0    577.302047 2017-07-18 22:17:08.571428608   0.136111         952.0      1521.586957                2.695652\n",
       "3341        16446      168472.50           0.0            2.0        80997.0  56157.500000 2017-05-16 00:00:00.000000000   0.014563       80995.0     40498.500000                1.500000\n",
       "66          14911      140438.72           1.0          199.0        79963.0     24.768734 2017-07-03 16:16:46.993007104   0.651475        3332.0       401.824121                8.969849"
      ]
     },
     "execution_count": 106,
     "metadata": {},
     "output_type": "execute_result"
    }
   ],
   "source": [
    " df4.sort_values( 'gross_revenue', ascending=False ).head()"
   ]
  },
  {
   "cell_type": "code",
   "execution_count": 107,
   "id": "98a13450",
   "metadata": {
    "ExecuteTime": {
     "end_time": "2022-07-07T10:19:37.864236Z",
     "start_time": "2022-07-07T10:19:37.851736Z"
    }
   },
   "outputs": [
    {
     "data": {
      "text/html": [
       "<div>\n",
       "<style scoped>\n",
       "    .dataframe tbody tr th:only-of-type {\n",
       "        vertical-align: middle;\n",
       "    }\n",
       "\n",
       "    .dataframe tbody tr th {\n",
       "        vertical-align: top;\n",
       "    }\n",
       "\n",
       "    .dataframe thead th {\n",
       "        text-align: right;\n",
       "    }\n",
       "</style>\n",
       "<table border=\"1\" class=\"dataframe\">\n",
       "  <thead>\n",
       "    <tr style=\"text-align: right;\">\n",
       "      <th></th>\n",
       "      <th>customer_id</th>\n",
       "      <th>gross_revenue</th>\n",
       "      <th>recency_days</th>\n",
       "      <th>qtde_invoices</th>\n",
       "      <th>qtde_products</th>\n",
       "      <th>avg_ticket</th>\n",
       "      <th>avg_recency_days</th>\n",
       "      <th>frequency</th>\n",
       "      <th>qtde_returns</th>\n",
       "      <th>avg_basket_size</th>\n",
       "      <th>avg_unique_basket_size</th>\n",
       "    </tr>\n",
       "  </thead>\n",
       "  <tbody>\n",
       "    <tr>\n",
       "      <th>1017</th>\n",
       "      <td>14646</td>\n",
       "      <td>279138.02</td>\n",
       "      <td>1.0</td>\n",
       "      <td>72.0</td>\n",
       "      <td>196844.0</td>\n",
       "      <td>135.503893</td>\n",
       "      <td>2017-06-26 11:12:00</td>\n",
       "      <td>0.206215</td>\n",
       "      <td>288.0</td>\n",
       "      <td>2733.944444</td>\n",
       "      <td>9.708333</td>\n",
       "    </tr>\n",
       "  </tbody>\n",
       "</table>\n",
       "</div>"
      ],
      "text/plain": [
       "      customer_id  gross_revenue  recency_days  qtde_invoices  qtde_products  avg_ticket    avg_recency_days  frequency  qtde_returns  avg_basket_size  avg_unique_basket_size\n",
       "1017        14646      279138.02           1.0           72.0       196844.0  135.503893 2017-06-26 11:12:00   0.206215         288.0      2733.944444                9.708333"
      ]
     },
     "execution_count": 107,
     "metadata": {},
     "output_type": "execute_result"
    }
   ],
   "source": [
    "# Como cliente 14646 tem valores altos de produtos, vou analisar se é outlier.\n",
    "df4[df4['customer_id'] == 14646].head()"
   ]
  },
  {
   "cell_type": "code",
   "execution_count": 108,
   "id": "218c3de2",
   "metadata": {
    "ExecuteTime": {
     "end_time": "2022-07-07T10:19:38.650298Z",
     "start_time": "2022-07-07T10:19:38.641329Z"
    }
   },
   "outputs": [],
   "source": [
    "# Analisa a distribuição mais detalhada do gross_revenue.\n",
    "# sns.histplot( df4['gross_revenue'], binwidth=200)"
   ]
  },
  {
   "cell_type": "markdown",
   "id": "32aaae89",
   "metadata": {},
   "source": [
    "### 4.1.2. Qtde Items"
   ]
  },
  {
   "cell_type": "code",
   "execution_count": 109,
   "id": "3fc6fc13",
   "metadata": {
    "ExecuteTime": {
     "end_time": "2022-07-07T10:19:39.779912Z",
     "start_time": "2022-07-07T10:19:39.757412Z"
    }
   },
   "outputs": [
    {
     "data": {
      "text/html": [
       "<div>\n",
       "<style scoped>\n",
       "    .dataframe tbody tr th:only-of-type {\n",
       "        vertical-align: middle;\n",
       "    }\n",
       "\n",
       "    .dataframe tbody tr th {\n",
       "        vertical-align: top;\n",
       "    }\n",
       "\n",
       "    .dataframe thead th {\n",
       "        text-align: right;\n",
       "    }\n",
       "</style>\n",
       "<table border=\"1\" class=\"dataframe\">\n",
       "  <thead>\n",
       "    <tr style=\"text-align: right;\">\n",
       "      <th></th>\n",
       "      <th>invoice_no</th>\n",
       "      <th>stock_code</th>\n",
       "      <th>quantity</th>\n",
       "      <th>invoice_date</th>\n",
       "      <th>unit_price</th>\n",
       "      <th>country</th>\n",
       "      <th>customer_id</th>\n",
       "    </tr>\n",
       "  </thead>\n",
       "  <tbody>\n",
       "    <tr>\n",
       "      <th>37952</th>\n",
       "      <td>539491</td>\n",
       "      <td>21981</td>\n",
       "      <td>12</td>\n",
       "      <td>2016-12-18</td>\n",
       "      <td>0.29</td>\n",
       "      <td>Netherlands</td>\n",
       "      <td>14646</td>\n",
       "    </tr>\n",
       "    <tr>\n",
       "      <th>37953</th>\n",
       "      <td>539491</td>\n",
       "      <td>21986</td>\n",
       "      <td>12</td>\n",
       "      <td>2016-12-18</td>\n",
       "      <td>0.29</td>\n",
       "      <td>Netherlands</td>\n",
       "      <td>14646</td>\n",
       "    </tr>\n",
       "    <tr>\n",
       "      <th>37954</th>\n",
       "      <td>539491</td>\n",
       "      <td>22720</td>\n",
       "      <td>2</td>\n",
       "      <td>2016-12-18</td>\n",
       "      <td>4.95</td>\n",
       "      <td>Netherlands</td>\n",
       "      <td>14646</td>\n",
       "    </tr>\n",
       "    <tr>\n",
       "      <th>37955</th>\n",
       "      <td>539491</td>\n",
       "      <td>21931</td>\n",
       "      <td>1</td>\n",
       "      <td>2016-12-18</td>\n",
       "      <td>1.95</td>\n",
       "      <td>Netherlands</td>\n",
       "      <td>14646</td>\n",
       "    </tr>\n",
       "    <tr>\n",
       "      <th>37956</th>\n",
       "      <td>539491</td>\n",
       "      <td>22613</td>\n",
       "      <td>2</td>\n",
       "      <td>2016-12-18</td>\n",
       "      <td>0.85</td>\n",
       "      <td>Netherlands</td>\n",
       "      <td>14646</td>\n",
       "    </tr>\n",
       "  </tbody>\n",
       "</table>\n",
       "</div>"
      ],
      "text/plain": [
       "      invoice_no stock_code  quantity invoice_date  unit_price      country  customer_id\n",
       "37952     539491      21981        12   2016-12-18        0.29  Netherlands        14646\n",
       "37953     539491      21986        12   2016-12-18        0.29  Netherlands        14646\n",
       "37954     539491      22720         2   2016-12-18        4.95  Netherlands        14646\n",
       "37955     539491      21931         1   2016-12-18        1.95  Netherlands        14646\n",
       "37956     539491      22613         2   2016-12-18        0.85  Netherlands        14646"
      ]
     },
     "execution_count": 109,
     "metadata": {},
     "output_type": "execute_result"
    }
   ],
   "source": [
    "df3[df3['customer_id'] == 14646].head()"
   ]
  },
  {
   "cell_type": "markdown",
   "id": "cd9445f8",
   "metadata": {},
   "source": [
    "### 4.1.3. Avg Ticket"
   ]
  },
  {
   "cell_type": "code",
   "execution_count": 110,
   "id": "45dac81b",
   "metadata": {
    "ExecuteTime": {
     "end_time": "2022-07-07T10:19:41.401162Z",
     "start_time": "2022-07-07T10:19:41.386137Z"
    }
   },
   "outputs": [
    {
     "data": {
      "text/html": [
       "<div>\n",
       "<style scoped>\n",
       "    .dataframe tbody tr th:only-of-type {\n",
       "        vertical-align: middle;\n",
       "    }\n",
       "\n",
       "    .dataframe tbody tr th {\n",
       "        vertical-align: top;\n",
       "    }\n",
       "\n",
       "    .dataframe thead th {\n",
       "        text-align: right;\n",
       "    }\n",
       "</style>\n",
       "<table border=\"1\" class=\"dataframe\">\n",
       "  <thead>\n",
       "    <tr style=\"text-align: right;\">\n",
       "      <th></th>\n",
       "      <th>customer_id</th>\n",
       "      <th>gross_revenue</th>\n",
       "      <th>recency_days</th>\n",
       "      <th>qtde_invoices</th>\n",
       "      <th>qtde_products</th>\n",
       "      <th>avg_ticket</th>\n",
       "      <th>avg_recency_days</th>\n",
       "      <th>frequency</th>\n",
       "      <th>qtde_returns</th>\n",
       "      <th>avg_basket_size</th>\n",
       "      <th>avg_unique_basket_size</th>\n",
       "    </tr>\n",
       "  </thead>\n",
       "  <tbody>\n",
       "    <tr>\n",
       "      <th>3341</th>\n",
       "      <td>16446</td>\n",
       "      <td>168472.5</td>\n",
       "      <td>0.0</td>\n",
       "      <td>2.0</td>\n",
       "      <td>80997.0</td>\n",
       "      <td>56157.5</td>\n",
       "      <td>2017-05-16</td>\n",
       "      <td>0.014563</td>\n",
       "      <td>80995.0</td>\n",
       "      <td>40498.5</td>\n",
       "      <td>1.5</td>\n",
       "    </tr>\n",
       "  </tbody>\n",
       "</table>\n",
       "</div>"
      ],
      "text/plain": [
       "      customer_id  gross_revenue  recency_days  qtde_invoices  qtde_products  avg_ticket avg_recency_days  frequency  qtde_returns  avg_basket_size  avg_unique_basket_size\n",
       "3341        16446       168472.5           0.0            2.0        80997.0     56157.5       2017-05-16   0.014563       80995.0          40498.5                     1.5"
      ]
     },
     "execution_count": 110,
     "metadata": {},
     "output_type": "execute_result"
    }
   ],
   "source": [
    "df4[df4['avg_ticket'] == 56157.5]"
   ]
  },
  {
   "cell_type": "markdown",
   "id": "9b0c4e51",
   "metadata": {
    "ExecuteTime": {
     "end_time": "2022-07-07T10:16:17.760184Z",
     "start_time": "2022-07-07T10:16:17.744180Z"
    }
   },
   "source": [
    "Cliente aparentemente comrou e cancelou, levando a um valor que pode atrapalhar o modelo.\n",
    "   \n",
    "   - Será necessário melhorar a abordagem de tratamento para cancelamentos/devoluções"
   ]
  },
  {
   "cell_type": "code",
   "execution_count": 111,
   "id": "50948c9e",
   "metadata": {
    "ExecuteTime": {
     "end_time": "2022-07-07T10:19:42.416870Z",
     "start_time": "2022-07-07T10:19:42.394845Z"
    }
   },
   "outputs": [
    {
     "data": {
      "text/html": [
       "<div>\n",
       "<style scoped>\n",
       "    .dataframe tbody tr th:only-of-type {\n",
       "        vertical-align: middle;\n",
       "    }\n",
       "\n",
       "    .dataframe tbody tr th {\n",
       "        vertical-align: top;\n",
       "    }\n",
       "\n",
       "    .dataframe thead th {\n",
       "        text-align: right;\n",
       "    }\n",
       "</style>\n",
       "<table border=\"1\" class=\"dataframe\">\n",
       "  <thead>\n",
       "    <tr style=\"text-align: right;\">\n",
       "      <th></th>\n",
       "      <th>customer_id</th>\n",
       "      <th>gross_revenue</th>\n",
       "      <th>recency_days</th>\n",
       "      <th>qtde_invoices</th>\n",
       "      <th>qtde_products</th>\n",
       "      <th>avg_ticket</th>\n",
       "      <th>avg_recency_days</th>\n",
       "      <th>frequency</th>\n",
       "      <th>qtde_returns</th>\n",
       "      <th>avg_basket_size</th>\n",
       "      <th>avg_unique_basket_size</th>\n",
       "    </tr>\n",
       "  </thead>\n",
       "  <tbody>\n",
       "    <tr>\n",
       "      <th>3341</th>\n",
       "      <td>16446</td>\n",
       "      <td>168472.5</td>\n",
       "      <td>0.0</td>\n",
       "      <td>2.0</td>\n",
       "      <td>80997.0</td>\n",
       "      <td>56157.5</td>\n",
       "      <td>2017-05-16</td>\n",
       "      <td>0.014563</td>\n",
       "      <td>80995.0</td>\n",
       "      <td>40498.5</td>\n",
       "      <td>1.5</td>\n",
       "    </tr>\n",
       "  </tbody>\n",
       "</table>\n",
       "</div>"
      ],
      "text/plain": [
       "      customer_id  gross_revenue  recency_days  qtde_invoices  qtde_products  avg_ticket avg_recency_days  frequency  qtde_returns  avg_basket_size  avg_unique_basket_size\n",
       "3341        16446       168472.5           0.0            2.0        80997.0     56157.5       2017-05-16   0.014563       80995.0          40498.5                     1.5"
      ]
     },
     "execution_count": 111,
     "metadata": {},
     "output_type": "execute_result"
    }
   ],
   "source": [
    "df4[df4['customer_id'] == 16446]"
   ]
  },
  {
   "cell_type": "markdown",
   "id": "67a4ff9c",
   "metadata": {},
   "source": [
    "## 4.2. Análise Bivariada"
   ]
  },
  {
   "cell_type": "code",
   "execution_count": 112,
   "id": "a62160e7",
   "metadata": {
    "ExecuteTime": {
     "end_time": "2022-07-07T10:19:43.526529Z",
     "start_time": "2022-07-07T10:19:43.519529Z"
    }
   },
   "outputs": [],
   "source": [
    "cols = ['customer_id']\n",
    "df4_tmp = df4.drop( cols, axis=1 )"
   ]
  },
  {
   "cell_type": "code",
   "execution_count": 113,
   "id": "e5de25f8",
   "metadata": {
    "ExecuteTime": {
     "end_time": "2022-07-07T10:22:16.538710Z",
     "start_time": "2022-07-07T10:19:44.031938Z"
    }
   },
   "outputs": [
    {
     "data": {
      "text/plain": [
       "<seaborn.axisgrid.PairGrid at 0x1f311855820>"
      ]
     },
     "execution_count": 113,
     "metadata": {},
     "output_type": "execute_result"
    },
    {
     "data": {
      "image/png": "[encoded data removed]",
      "text/plain": [
       "<Figure size 2250x2250 with 90 Axes>"
      ]
     },
     "metadata": {},
     "output_type": "display_data"
    }
   ],
   "source": [
    "sns.pairplot( df4_tmp )"
   ]
  },
  {
   "cell_type": "markdown",
   "id": "e943f208",
   "metadata": {},
   "source": [
    "## 4.2. Análise Multivariada"
   ]
  },
  {
   "cell_type": "markdown",
   "id": "a2a22cf7",
   "metadata": {},
   "source": [
    "# 5.0. Preparação dos Dados"
   ]
  },
  {
   "cell_type": "code",
   "execution_count": 52,
   "id": "e27f1edf",
   "metadata": {
    "ExecuteTime": {
     "end_time": "2022-07-07T09:47:05.069034Z",
     "start_time": "2022-07-07T09:47:05.055034Z"
    }
   },
   "outputs": [],
   "source": [
    "df5 = df4.copy()"
   ]
  },
  {
   "cell_type": "markdown",
   "id": "ee8906d7",
   "metadata": {},
   "source": [
    "## 5.1. Scaler"
   ]
  },
  {
   "cell_type": "code",
   "execution_count": 53,
   "id": "bbb73464",
   "metadata": {
    "ExecuteTime": {
     "end_time": "2022-07-07T09:47:05.751535Z",
     "start_time": "2022-07-07T09:47:05.073040Z"
    }
   },
   "outputs": [
    {
     "ename": "KeyError",
     "evalue": "\"None of [Index(['invoice_no'], dtype='object')] are in the [columns]\"",
     "output_type": "error",
     "traceback": [
      "\u001b[1;31m---------------------------------------------------------------------------\u001b[0m",
      "\u001b[1;31mKeyError\u001b[0m                                  Traceback (most recent call last)",
      "\u001b[1;32m~\\AppData\\Local\\Temp/ipykernel_12532/2206888538.py\u001b[0m in \u001b[0;36m<module>\u001b[1;34m\u001b[0m\n\u001b[0;32m      3\u001b[0m \u001b[0mdf5\u001b[0m\u001b[1;33m[\u001b[0m\u001b[1;34m'gross_revenue'\u001b[0m\u001b[1;33m]\u001b[0m \u001b[1;33m=\u001b[0m \u001b[0mss\u001b[0m\u001b[1;33m.\u001b[0m\u001b[0mfit_transform\u001b[0m\u001b[1;33m(\u001b[0m \u001b[0mdf5\u001b[0m\u001b[1;33m[\u001b[0m\u001b[1;33m[\u001b[0m\u001b[1;34m'gross_revenue'\u001b[0m\u001b[1;33m]\u001b[0m\u001b[1;33m]\u001b[0m \u001b[1;33m)\u001b[0m\u001b[1;33m\u001b[0m\u001b[1;33m\u001b[0m\u001b[0m\n\u001b[0;32m      4\u001b[0m \u001b[0mdf5\u001b[0m\u001b[1;33m[\u001b[0m\u001b[1;34m'recency_days'\u001b[0m\u001b[1;33m]\u001b[0m \u001b[1;33m=\u001b[0m \u001b[0mss\u001b[0m\u001b[1;33m.\u001b[0m\u001b[0mfit_transform\u001b[0m\u001b[1;33m(\u001b[0m \u001b[0mdf5\u001b[0m\u001b[1;33m[\u001b[0m\u001b[1;33m[\u001b[0m\u001b[1;34m'recency_days'\u001b[0m\u001b[1;33m]\u001b[0m\u001b[1;33m]\u001b[0m \u001b[1;33m)\u001b[0m\u001b[1;33m\u001b[0m\u001b[1;33m\u001b[0m\u001b[0m\n\u001b[1;32m----> 5\u001b[1;33m \u001b[0mdf5\u001b[0m\u001b[1;33m[\u001b[0m\u001b[1;34m'invoice_no'\u001b[0m\u001b[1;33m]\u001b[0m \u001b[1;33m=\u001b[0m \u001b[0mss\u001b[0m\u001b[1;33m.\u001b[0m\u001b[0mfit_transform\u001b[0m\u001b[1;33m(\u001b[0m \u001b[0mdf5\u001b[0m\u001b[1;33m[\u001b[0m\u001b[1;33m[\u001b[0m\u001b[1;34m'invoice_no'\u001b[0m\u001b[1;33m]\u001b[0m\u001b[1;33m]\u001b[0m \u001b[1;33m)\u001b[0m\u001b[1;33m\u001b[0m\u001b[1;33m\u001b[0m\u001b[0m\n\u001b[0m\u001b[0;32m      6\u001b[0m \u001b[0mdf5\u001b[0m\u001b[1;33m[\u001b[0m\u001b[1;34m'avg_ticket'\u001b[0m\u001b[1;33m]\u001b[0m \u001b[1;33m=\u001b[0m \u001b[0mss\u001b[0m\u001b[1;33m.\u001b[0m\u001b[0mfit_transform\u001b[0m\u001b[1;33m(\u001b[0m \u001b[0mdf5\u001b[0m\u001b[1;33m[\u001b[0m\u001b[1;33m[\u001b[0m\u001b[1;34m'avg_ticket'\u001b[0m\u001b[1;33m]\u001b[0m\u001b[1;33m]\u001b[0m \u001b[1;33m)\u001b[0m\u001b[1;33m\u001b[0m\u001b[1;33m\u001b[0m\u001b[0m\n\u001b[0;32m      7\u001b[0m \u001b[0mdf5\u001b[0m\u001b[1;33m[\u001b[0m\u001b[1;34m'returns'\u001b[0m\u001b[1;33m]\u001b[0m \u001b[1;33m=\u001b[0m \u001b[0mss\u001b[0m\u001b[1;33m.\u001b[0m\u001b[0mfit_transform\u001b[0m\u001b[1;33m(\u001b[0m \u001b[0mdf5\u001b[0m\u001b[1;33m[\u001b[0m\u001b[1;33m[\u001b[0m\u001b[1;34m'returns'\u001b[0m\u001b[1;33m]\u001b[0m\u001b[1;33m]\u001b[0m \u001b[1;33m)\u001b[0m\u001b[1;33m\u001b[0m\u001b[1;33m\u001b[0m\u001b[0m\n",
      "\u001b[1;32m~\\anaconda3\\envs\\dsEmProducao\\lib\\site-packages\\pandas\\core\\frame.py\u001b[0m in \u001b[0;36m__getitem__\u001b[1;34m(self, key)\u001b[0m\n\u001b[0;32m   3462\u001b[0m             \u001b[1;32mif\u001b[0m \u001b[0mis_iterator\u001b[0m\u001b[1;33m(\u001b[0m\u001b[0mkey\u001b[0m\u001b[1;33m)\u001b[0m\u001b[1;33m:\u001b[0m\u001b[1;33m\u001b[0m\u001b[1;33m\u001b[0m\u001b[0m\n\u001b[0;32m   3463\u001b[0m                 \u001b[0mkey\u001b[0m \u001b[1;33m=\u001b[0m \u001b[0mlist\u001b[0m\u001b[1;33m(\u001b[0m\u001b[0mkey\u001b[0m\u001b[1;33m)\u001b[0m\u001b[1;33m\u001b[0m\u001b[1;33m\u001b[0m\u001b[0m\n\u001b[1;32m-> 3464\u001b[1;33m             \u001b[0mindexer\u001b[0m \u001b[1;33m=\u001b[0m \u001b[0mself\u001b[0m\u001b[1;33m.\u001b[0m\u001b[0mloc\u001b[0m\u001b[1;33m.\u001b[0m\u001b[0m_get_listlike_indexer\u001b[0m\u001b[1;33m(\u001b[0m\u001b[0mkey\u001b[0m\u001b[1;33m,\u001b[0m \u001b[0maxis\u001b[0m\u001b[1;33m=\u001b[0m\u001b[1;36m1\u001b[0m\u001b[1;33m)\u001b[0m\u001b[1;33m[\u001b[0m\u001b[1;36m1\u001b[0m\u001b[1;33m]\u001b[0m\u001b[1;33m\u001b[0m\u001b[1;33m\u001b[0m\u001b[0m\n\u001b[0m\u001b[0;32m   3465\u001b[0m \u001b[1;33m\u001b[0m\u001b[0m\n\u001b[0;32m   3466\u001b[0m         \u001b[1;31m# take() does not accept boolean indexers\u001b[0m\u001b[1;33m\u001b[0m\u001b[1;33m\u001b[0m\u001b[1;33m\u001b[0m\u001b[0m\n",
      "\u001b[1;32m~\\anaconda3\\envs\\dsEmProducao\\lib\\site-packages\\pandas\\core\\indexing.py\u001b[0m in \u001b[0;36m_get_listlike_indexer\u001b[1;34m(self, key, axis)\u001b[0m\n\u001b[0;32m   1312\u001b[0m             \u001b[0mkeyarr\u001b[0m\u001b[1;33m,\u001b[0m \u001b[0mindexer\u001b[0m\u001b[1;33m,\u001b[0m \u001b[0mnew_indexer\u001b[0m \u001b[1;33m=\u001b[0m \u001b[0max\u001b[0m\u001b[1;33m.\u001b[0m\u001b[0m_reindex_non_unique\u001b[0m\u001b[1;33m(\u001b[0m\u001b[0mkeyarr\u001b[0m\u001b[1;33m)\u001b[0m\u001b[1;33m\u001b[0m\u001b[1;33m\u001b[0m\u001b[0m\n\u001b[0;32m   1313\u001b[0m \u001b[1;33m\u001b[0m\u001b[0m\n\u001b[1;32m-> 1314\u001b[1;33m         \u001b[0mself\u001b[0m\u001b[1;33m.\u001b[0m\u001b[0m_validate_read_indexer\u001b[0m\u001b[1;33m(\u001b[0m\u001b[0mkeyarr\u001b[0m\u001b[1;33m,\u001b[0m \u001b[0mindexer\u001b[0m\u001b[1;33m,\u001b[0m \u001b[0maxis\u001b[0m\u001b[1;33m)\u001b[0m\u001b[1;33m\u001b[0m\u001b[1;33m\u001b[0m\u001b[0m\n\u001b[0m\u001b[0;32m   1315\u001b[0m \u001b[1;33m\u001b[0m\u001b[0m\n\u001b[0;32m   1316\u001b[0m         if needs_i8_conversion(ax.dtype) or isinstance(\n",
      "\u001b[1;32m~\\anaconda3\\envs\\dsEmProducao\\lib\\site-packages\\pandas\\core\\indexing.py\u001b[0m in \u001b[0;36m_validate_read_indexer\u001b[1;34m(self, key, indexer, axis)\u001b[0m\n\u001b[0;32m   1372\u001b[0m                 \u001b[1;32mif\u001b[0m \u001b[0muse_interval_msg\u001b[0m\u001b[1;33m:\u001b[0m\u001b[1;33m\u001b[0m\u001b[1;33m\u001b[0m\u001b[0m\n\u001b[0;32m   1373\u001b[0m                     \u001b[0mkey\u001b[0m \u001b[1;33m=\u001b[0m \u001b[0mlist\u001b[0m\u001b[1;33m(\u001b[0m\u001b[0mkey\u001b[0m\u001b[1;33m)\u001b[0m\u001b[1;33m\u001b[0m\u001b[1;33m\u001b[0m\u001b[0m\n\u001b[1;32m-> 1374\u001b[1;33m                 \u001b[1;32mraise\u001b[0m \u001b[0mKeyError\u001b[0m\u001b[1;33m(\u001b[0m\u001b[1;34mf\"None of [{key}] are in the [{axis_name}]\"\u001b[0m\u001b[1;33m)\u001b[0m\u001b[1;33m\u001b[0m\u001b[1;33m\u001b[0m\u001b[0m\n\u001b[0m\u001b[0;32m   1375\u001b[0m \u001b[1;33m\u001b[0m\u001b[0m\n\u001b[0;32m   1376\u001b[0m             \u001b[0mnot_found\u001b[0m \u001b[1;33m=\u001b[0m \u001b[0mlist\u001b[0m\u001b[1;33m(\u001b[0m\u001b[0mensure_index\u001b[0m\u001b[1;33m(\u001b[0m\u001b[0mkey\u001b[0m\u001b[1;33m)\u001b[0m\u001b[1;33m[\u001b[0m\u001b[0mmissing_mask\u001b[0m\u001b[1;33m.\u001b[0m\u001b[0mnonzero\u001b[0m\u001b[1;33m(\u001b[0m\u001b[1;33m)\u001b[0m\u001b[1;33m[\u001b[0m\u001b[1;36m0\u001b[0m\u001b[1;33m]\u001b[0m\u001b[1;33m]\u001b[0m\u001b[1;33m.\u001b[0m\u001b[0munique\u001b[0m\u001b[1;33m(\u001b[0m\u001b[1;33m)\u001b[0m\u001b[1;33m)\u001b[0m\u001b[1;33m\u001b[0m\u001b[1;33m\u001b[0m\u001b[0m\n",
      "\u001b[1;31mKeyError\u001b[0m: \"None of [Index(['invoice_no'], dtype='object')] are in the [columns]\""
     ]
    }
   ],
   "source": [
    "ss = pp.StandardScaler()\n",
    "\n",
    "df5['gross_revenue'] = ss.fit_transform( df5[['gross_revenue']] )\n",
    "df5['recency_days'] = ss.fit_transform( df5[['recency_days']] )\n",
    "df5['invoice_no'] = ss.fit_transform( df5[['invoice_no']] )\n",
    "df5['avg_ticket'] = ss.fit_transform( df5[['avg_ticket']] )\n",
    "df5['returns'] = ss.fit_transform( df5[['returns']] )"
   ]
  },
  {
   "cell_type": "code",
   "execution_count": null,
   "id": "88409243",
   "metadata": {
    "ExecuteTime": {
     "end_time": "2022-07-07T09:47:05.755034Z",
     "start_time": "2022-07-07T09:47:05.755034Z"
    }
   },
   "outputs": [],
   "source": [
    "df5.head()"
   ]
  },
  {
   "cell_type": "markdown",
   "id": "66a5ab22",
   "metadata": {},
   "source": [
    "# 6.0. Seleção de Features"
   ]
  },
  {
   "cell_type": "code",
   "execution_count": null,
   "id": "66ce84ee",
   "metadata": {
    "ExecuteTime": {
     "end_time": "2022-07-07T09:47:05.756535Z",
     "start_time": "2022-07-07T09:47:05.756535Z"
    }
   },
   "outputs": [],
   "source": [
    "df6 = df5.copy()"
   ]
  },
  {
   "cell_type": "markdown",
   "id": "ea1eed28",
   "metadata": {},
   "source": [
    "# 7.0. Hyperparameter Fine-Tunning"
   ]
  },
  {
   "cell_type": "code",
   "execution_count": null,
   "id": "f6169b65",
   "metadata": {
    "ExecuteTime": {
     "end_time": "2022-07-07T09:47:05.758534Z",
     "start_time": "2022-07-07T09:47:05.758534Z"
    }
   },
   "outputs": [],
   "source": [
    "X = df6.drop( columns=['customer_id'] )"
   ]
  },
  {
   "cell_type": "code",
   "execution_count": null,
   "id": "563aa1ea",
   "metadata": {
    "ExecuteTime": {
     "end_time": "2022-07-07T09:47:05.762039Z",
     "start_time": "2022-07-07T09:47:05.762039Z"
    }
   },
   "outputs": [],
   "source": [
    "clusters = [2, 3, 4, 5, 6, 7]"
   ]
  },
  {
   "cell_type": "markdown",
   "id": "647174de",
   "metadata": {},
   "source": [
    "## 7.1. Within-Cluster Sum of Square (WSS)"
   ]
  },
  {
   "cell_type": "code",
   "execution_count": null,
   "id": "f6d328fd",
   "metadata": {
    "ExecuteTime": {
     "end_time": "2022-07-07T09:47:05.764035Z",
     "start_time": "2022-07-07T09:47:05.764035Z"
    }
   },
   "outputs": [],
   "source": [
    "wss = []\n",
    "\n",
    "for k in clusters:\n",
    "    # Model Definition\n",
    "    kmeans = c.KMeans( init='random', n_clusters=k, n_init=10, max_iter=300, random_state=42)\n",
    "    \n",
    "    # model taining\n",
    "    kmeans.fit( X )\n",
    "    \n",
    "    # Validation\n",
    "    wss.append( kmeans.inertia_ )\n",
    "    \n",
    "# plot wss\n",
    "\n",
    "plt.figure(figsize=(14,7))\n",
    "plt.plot( clusters, wss, linestyle='--', marker='o', color='b' )\n",
    "plt.xlabel( 'K')\n",
    "plt.ylabel( 'Within-Cluster Sum of Square' )\n",
    "plt.title( 'WSS vs K')"
   ]
  },
  {
   "cell_type": "markdown",
   "id": "83a208e6",
   "metadata": {
    "ExecuteTime": {
     "end_time": "2022-06-01T00:12:52.858494Z",
     "start_time": "2022-06-01T00:12:52.841994Z"
    }
   },
   "source": [
    "## 7.2. Elbow"
   ]
  },
  {
   "cell_type": "code",
   "execution_count": null,
   "id": "254eb39e",
   "metadata": {
    "ExecuteTime": {
     "end_time": "2022-07-07T09:47:05.765035Z",
     "start_time": "2022-07-07T09:47:05.765035Z"
    }
   },
   "outputs": [],
   "source": [
    "plt.figure(figsize=(14,7))\n",
    "kmeans = KElbowVisualizer( c.KMeans(), k=clusters, timings=False)\n",
    "kmeans.fit( X )\n",
    "kmeans.show()"
   ]
  },
  {
   "cell_type": "markdown",
   "id": "b17b6270",
   "metadata": {},
   "source": [
    "## 7.3. Silhouette Score"
   ]
  },
  {
   "cell_type": "code",
   "execution_count": null,
   "id": "1b05410e",
   "metadata": {
    "ExecuteTime": {
     "end_time": "2022-07-07T09:47:05.767035Z",
     "start_time": "2022-07-07T09:47:05.767035Z"
    }
   },
   "outputs": [],
   "source": [
    "plt.figure(figsize=(14,7))\n",
    "kmeans = KElbowVisualizer( c.KMeans(), k=clusters, metric='silhouette', timings=False)\n",
    "kmeans.fit( X )\n",
    "kmeans.show()"
   ]
  },
  {
   "cell_type": "markdown",
   "id": "157f7d9b",
   "metadata": {},
   "source": [
    "## 7.4. Silhouette Analysis"
   ]
  },
  {
   "cell_type": "markdown",
   "id": "5c9e48bf",
   "metadata": {},
   "source": [
    "Implementar nos proximos ciclos https://scikit-learn.org/stable/auto_examples/cluster/plot_kmeans_silhouette_analysis.html#sphx-glr-auto-examples-cluster-plot-kmeans-silhouette-analysis-py"
   ]
  },
  {
   "cell_type": "code",
   "execution_count": null,
   "id": "c3233453",
   "metadata": {
    "ExecuteTime": {
     "end_time": "2022-07-07T09:47:05.769535Z",
     "start_time": "2022-07-07T09:47:05.769535Z"
    }
   },
   "outputs": [],
   "source": [
    "# Para identificar qual a melhor quantidade de clusters vamos plotar a silhouette de cada um e fazer uma análise visual.\n",
    "\n",
    "fig, ax = plt.subplots( 3, 2, figsize=(25, 18) )\n",
    "\n",
    "for k in clusters:\n",
    "    km = c.KMeans( init='random', n_clusters=k, n_init=10, max_iter=100, random_state=42)\n",
    "    \n",
    "    q, mod = divmod( k, 2 )\n",
    "    visualizer = SilhouetteVisualizer( km, color='yellowbrick', ax=ax[q-1][mod] )\n",
    "    visualizer.fit( X )\n",
    "    visualizer.finalize()"
   ]
  },
  {
   "cell_type": "markdown",
   "id": "70741a46",
   "metadata": {},
   "source": [
    "# 8.0. Modelagem de Machine Learning"
   ]
  },
  {
   "cell_type": "markdown",
   "id": "66d879f2",
   "metadata": {},
   "source": [
    "## 8.1. K-Means"
   ]
  },
  {
   "cell_type": "code",
   "execution_count": null,
   "id": "eb713b3f",
   "metadata": {
    "ExecuteTime": {
     "end_time": "2022-07-07T09:47:05.772534Z",
     "start_time": "2022-07-07T09:47:05.772534Z"
    }
   },
   "outputs": [],
   "source": [
    "k = 3\n",
    "\n",
    "# Model Definition\n",
    "kmeans = c.KMeans( init='random', n_clusters=k, n_init=10, max_iter=300, random_state=42)\n",
    "\n",
    "# model taining\n",
    "kmeans.fit( X )\n",
    "\n",
    "# clustering\n",
    "labels = kmeans.labels_"
   ]
  },
  {
   "cell_type": "markdown",
   "id": "8b18bbca",
   "metadata": {},
   "source": [
    "## 8.2. Cluster Validation"
   ]
  },
  {
   "cell_type": "code",
   "execution_count": null,
   "id": "8f711bd4",
   "metadata": {
    "ExecuteTime": {
     "end_time": "2022-07-07T09:47:05.774035Z",
     "start_time": "2022-07-07T09:47:05.774035Z"
    }
   },
   "outputs": [],
   "source": [
    "print( f'WSS Value: {kmeans.inertia_}' )\n",
    "print( 'SS Value: {}'.format( m.silhouette_score( X, labels, metric='euclidean') ) )"
   ]
  },
  {
   "cell_type": "markdown",
   "id": "f8b8a4ab",
   "metadata": {},
   "source": [
    "# 9.0. Análise dos clusters"
   ]
  },
  {
   "cell_type": "code",
   "execution_count": null,
   "id": "0818a1fe",
   "metadata": {
    "ExecuteTime": {
     "end_time": "2022-07-07T09:47:05.775534Z",
     "start_time": "2022-07-07T09:47:05.775534Z"
    }
   },
   "outputs": [],
   "source": [
    "df9 = df6.copy()\n",
    "df9['cluster'] = labels"
   ]
  },
  {
   "cell_type": "code",
   "execution_count": null,
   "id": "2bd80bbc",
   "metadata": {
    "ExecuteTime": {
     "end_time": "2022-07-07T09:47:05.778036Z",
     "start_time": "2022-07-07T09:47:05.778036Z"
    }
   },
   "outputs": [],
   "source": [
    "df9.columns\n"
   ]
  },
  {
   "cell_type": "markdown",
   "id": "37bd9d67",
   "metadata": {},
   "source": [
    "## 9.1. Silhouette"
   ]
  },
  {
   "cell_type": "code",
   "execution_count": null,
   "id": "b065a928",
   "metadata": {
    "ExecuteTime": {
     "end_time": "2022-07-07T09:47:05.780535Z",
     "start_time": "2022-07-07T09:47:05.780535Z"
    }
   },
   "outputs": [],
   "source": [
    "visualizer = SilhouetteVisualizer( kmeans, color='yellowbrick' )\n",
    "visualizer.fit( X )\n",
    "visualizer.finalize()"
   ]
  },
  {
   "cell_type": "markdown",
   "id": "eec22da5",
   "metadata": {},
   "source": [
    "## 9.2. 2d Plot"
   ]
  },
  {
   "cell_type": "code",
   "execution_count": null,
   "id": "22046742",
   "metadata": {
    "ExecuteTime": {
     "end_time": "2022-07-07T09:47:05.782036Z",
     "start_time": "2022-07-07T09:47:05.782036Z"
    }
   },
   "outputs": [],
   "source": [
    "df9['cluster'].value_counts(normalize=True) * 100"
   ]
  },
  {
   "cell_type": "code",
   "execution_count": null,
   "id": "967c0d2b",
   "metadata": {
    "ExecuteTime": {
     "end_time": "2022-07-07T09:47:05.783536Z",
     "start_time": "2022-07-07T09:47:05.783536Z"
    }
   },
   "outputs": [],
   "source": [
    "# plt.figure( figsize=(35, 18) )\n",
    "df_viz = df9.drop( columns='customer_id', axis=1 )\n",
    "sns.pairplot( df_viz, hue='cluster' )"
   ]
  },
  {
   "cell_type": "markdown",
   "id": "f0e77939",
   "metadata": {},
   "source": [
    "## 9.3. UMAP"
   ]
  },
  {
   "cell_type": "code",
   "execution_count": null,
   "id": "cf87ef84",
   "metadata": {
    "ExecuteTime": {
     "end_time": "2022-07-07T09:47:05.786535Z",
     "start_time": "2022-07-07T09:47:05.786535Z"
    }
   },
   "outputs": [],
   "source": [
    "reducer = umap.UMAP( n_neighbors=20, random_state=42 )\n",
    "embedding = reducer.fit_transform( X )\n",
    "\n",
    "# Embedding\n",
    "df_viz['embedding_x'] = embedding[:, 0]\n",
    "df_viz['embedding_y'] = embedding[:, 1]\n",
    "\n",
    "# Plot UMAP\n",
    "plt.figure( figsize=(11, 7) )\n",
    "sns.scatterplot( x='embedding_x', \n",
    "                y='embedding_y',\n",
    "               hue='cluster',\n",
    "               palette=sns.color_palette( 'hls', n_colors=len( df_viz['cluster'].unique() ) ),\n",
    "               data=df_viz)"
   ]
  },
  {
   "cell_type": "markdown",
   "id": "aae9d8c8",
   "metadata": {},
   "source": [
    "## 9.4. Inspeção Visual"
   ]
  },
  {
   "cell_type": "code",
   "execution_count": null,
   "id": "51090f65",
   "metadata": {
    "ExecuteTime": {
     "end_time": "2022-07-07T09:47:05.788036Z",
     "start_time": "2022-07-07T09:47:05.787534Z"
    }
   },
   "outputs": [],
   "source": [
    "# Esta inspeção serve para quado temos 3 dimensões\n",
    "# df_tmp = df9[['recency_days', 'invoice_no', 'gross_revenue', 'cluster']]\n",
    "fig = px.scatter_3d( df9, x='recency_days', y='invoice_no', z='gross_revenue', color='cluster')\n",
    "fig.show()"
   ]
  },
  {
   "cell_type": "markdown",
   "id": "fa21264e",
   "metadata": {},
   "source": [
    "## 9.5. Perfil do Cluster"
   ]
  },
  {
   "cell_type": "code",
   "execution_count": null,
   "id": "5ee91c87",
   "metadata": {
    "ExecuteTime": {
     "end_time": "2022-07-07T09:47:05.789534Z",
     "start_time": "2022-07-07T09:47:05.789534Z"
    }
   },
   "outputs": [],
   "source": [
    "# Número de clientes\n",
    "df_cluster = df9[['customer_id', 'cluster']].groupby( 'cluster' ).count().reset_index()\n",
    "df_cluster['perc_customer'] =  100 * ( df_cluster['customer_id'] / df_cluster['customer_id'].sum() )\n",
    "\n",
    "# Média Faturamento\n",
    "df_avg_gross_revenue = df9[['gross_revenue', 'cluster']].groupby( 'cluster' ).mean().reset_index()\n",
    "df_cluster = pd.merge( df_cluster, df_avg_gross_revenue, on='cluster', how='inner')\n",
    "\n",
    "# Média Recencia\n",
    "df_avg_recency_days = df9[['recency_days', 'cluster']].groupby( 'cluster' ).mean().reset_index()\n",
    "df_cluster = pd.merge( df_cluster, df_avg_recency_days, on='cluster', how='inner')\n",
    "\n",
    "# Média compras\n",
    "df_avg_invoice_no = df9[['invoice_no', 'cluster']].groupby( 'cluster' ).mean().reset_index()\n",
    "df_cluster = pd.merge( df_cluster, df_avg_invoice_no, on='cluster', how='inner')\n",
    "\n",
    "# Média ticket\n",
    "df_avg_ticket = df9[['avg_ticket', 'cluster']].groupby( 'cluster' ).mean().reset_index()\n",
    "df_cluster = pd.merge( df_cluster, df_avg_ticket, on='cluster', how='inner')"
   ]
  },
  {
   "cell_type": "code",
   "execution_count": null,
   "id": "3bc99c72",
   "metadata": {
    "ExecuteTime": {
     "end_time": "2022-07-07T09:47:05.791540Z",
     "start_time": "2022-07-07T09:47:05.791540Z"
    }
   },
   "outputs": [],
   "source": [
    "df_cluster.head()"
   ]
  },
  {
   "cell_type": "code",
   "execution_count": null,
   "id": "dc786549",
   "metadata": {
    "ExecuteTime": {
     "end_time": "2022-07-07T09:47:05.795038Z",
     "start_time": "2022-07-07T09:47:05.795038Z"
    },
    "scrolled": true
   },
   "outputs": [],
   "source": [
    "## df9[['customer_id', 'cluster']]['cluster'].value_counts(normalize=True) * 100"
   ]
  },
  {
   "cell_type": "markdown",
   "id": "0c2521ec",
   "metadata": {},
   "source": [
    "### Cluster 01: (candidato à Insider)\n",
    "- Número de Clientes: 6 (0,14%)\n",
    "- Recência média: 7 Dias\n",
    "- Compras Média: 89 Compras\n",
    "- Receita média: $ 182.182,00 Dólares"
   ]
  },
  {
   "cell_type": "markdown",
   "id": "fb499d69",
   "metadata": {},
   "source": [
    "### Cluster 02:\n",
    "- Número de Clientes: 31 (99%)\n",
    "- Recência média: 14 Dias\n",
    "- Compras Média: 53 Compras\n",
    "- Receita média: $ 40.543,52 Dólares"
   ]
  },
  {
   "cell_type": "markdown",
   "id": "9b3e8f68",
   "metadata": {},
   "source": [
    "### Cluster 03: \n",
    "- Número de Clientes: 4.335 (99%)\n",
    "- Recência média: 92 Dias\n",
    "- Compras Média: 5 Compras\n",
    "- Receita média: $ 1.372,57 Dólares"
   ]
  },
  {
   "cell_type": "markdown",
   "id": "fbd12c68",
   "metadata": {
    "hide_input": false
   },
   "source": [
    "# 10.0. Deploy Modelo em Produção"
   ]
  }
 ],
 "metadata": {
  "kernelspec": {
   "display_name": "Python 3 (ipykernel)",
   "language": "python",
   "name": "python3"
  },
  "language_info": {
   "codemirror_mode": {
    "name": "ipython",
    "version": 3
   },
   "file_extension": ".py",
   "mimetype": "text/x-python",
   "name": "python",
   "nbconvert_exporter": "python",
   "pygments_lexer": "ipython3",
   "version": "3.8.12"
  }
 },
 "nbformat": 4,
 "nbformat_minor": 5
}
